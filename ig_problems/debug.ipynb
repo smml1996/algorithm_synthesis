{
 "cells": [
  {
   "cell_type": "code",
   "execution_count": 1,
   "id": "a14b319c",
   "metadata": {},
   "outputs": [],
   "source": [
    "from state_discrimination import *"
   ]
  },
  {
   "cell_type": "code",
   "execution_count": 2,
   "id": "946af62d",
   "metadata": {},
   "outputs": [
    {
     "name": "stdout",
     "output_type": "stream",
     "text": [
      "******\n",
      "H0\n",
      "MEAS0\n",
      "RESET\n",
      "IS0\n",
      "ISPlus\n"
     ]
    }
   ],
   "source": [
    "from experiments_utils import get_default_embedding\n",
    "from ibm_noise_models import NoiseModel\n",
    "from utils import Precision\n",
    "\n",
    "\n",
    "Precision.PRECISION = 10\n",
    "Precision.update_threshold()\n",
    "experiment_id = StateDiscrExperimentID.exp4\n",
    "noise_model = NoiseModel()\n",
    "num_qubits = get_experiment_id_qubits(experiment_id)\n",
    "embedding = get_default_embedding(num_qubits)\n",
    "problem_instance = IGStateDiscrInstance(embedding, experiment_id)\n",
    "actions = get_experiments_actions(embedding, experiment_id)\n",
    "max_horizon = get_experiment_id_horizon(experiment_id)\n",
    "initial_distribution = []\n",
    "\n",
    "for initial_state in problem_instance.initial_states:\n",
    "    initial_distribution.append((initial_state, 1/len(problem_instance.initial_states)))"
   ]
  },
  {
   "cell_type": "code",
   "execution_count": 3,
   "id": "a6152816",
   "metadata": {},
   "outputs": [
    {
     "name": "stdout",
     "output_type": "stream",
     "text": [
      "(1+0j)|0> 3\n",
      "(0.7071067811865476+0j)|01> + (0.7071067811865476+0j)|11> 1\n",
      "(0.7071067811865476+0j)|01> + (-0.7071067811865476+0j)|11> 3\n",
      "(1+0j)|0> 1\n",
      "(1+0j)|1> 3\n",
      "(0.7071067811865476+0j)|0> + (-0.7071067811865476+0j)|1> 3\n",
      "(1+0j)|11> 3\n",
      "(0.7071067811865476+0j)|0> + (0.7071067811865476+0j)|1> 3\n",
      "(1+0j)|01> 3\n",
      "(0.7071067811865476+0j)|0> + (0.7071067811865476+0j)|1> 1\n",
      "(0.7071067811865476+0j)|01> + (0.7071067811865476+0j)|11> 3\n",
      "(1+0j)|01> 1\n"
     ]
    }
   ],
   "source": [
    "from imperfect_games import KnwGraph\n",
    "from pomdp import build_pomdp\n",
    "\n",
    "\n",
    "pomdp = build_pomdp(actions, noise_model, max_horizon, embedding, initial_distribution=initial_distribution, guard=guard)\n",
    "\n",
    "\n",
    "knwgraph = KnwGraph(pomdp, problem_instance.is_target_qs)\n",
    "algorithm = knwgraph.get_algorithm()"
   ]
  },
  {
   "cell_type": "code",
   "execution_count": 10,
   "id": "ad864725",
   "metadata": {},
   "outputs": [
    {
     "name": "stdout",
     "output_type": "stream",
     "text": [
      "(1+0j)|0> 4\n",
      "(0.7071067811865476+0j)|01> + (0.7071067811865476+0j)|11> 3\n"
     ]
    }
   ],
   "source": [
    "for initial_state in knwgraph.initial_states:\n",
    "    print(initial_state.vertex.quantum_state, knwgraph.rankings[initial_state])"
   ]
  },
  {
   "cell_type": "code",
   "execution_count": null,
   "id": "f9f4789f",
   "metadata": {},
   "outputs": [],
   "source": []
  }
 ],
 "metadata": {
  "kernelspec": {
   "display_name": "Python 3 (ipykernel)",
   "language": "python",
   "name": "python3"
  },
  "language_info": {
   "codemirror_mode": {
    "name": "ipython",
    "version": 3
   },
   "file_extension": ".py",
   "mimetype": "text/x-python",
   "name": "python",
   "nbconvert_exporter": "python",
   "pygments_lexer": "ipython3",
   "version": "3.10.13"
  }
 },
 "nbformat": 4,
 "nbformat_minor": 5
}
