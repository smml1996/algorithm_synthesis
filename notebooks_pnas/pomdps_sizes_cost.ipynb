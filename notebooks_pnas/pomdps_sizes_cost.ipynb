{
 "cells": [
  {
   "cell_type": "code",
   "execution_count": 3,
   "id": "c47a921e",
   "metadata": {},
   "outputs": [],
   "source": [
    "from notebook_utils import *\n",
    "import seaborn as sns"
   ]
  },
  {
   "cell_type": "code",
   "execution_count": 2,
   "id": "2bbc0b34",
   "metadata": {},
   "outputs": [],
   "source": [
    "experiments_ids = [BitflipExperimentID.IPMA, BitflipExperimentID.CXH, BitflipExperimentID.IPMA2, PhaseflipExperimentID.IPMA, GHZExperimentID.EMBED, ResetExperimentID.main]"
   ]
  },
  {
   "cell_type": "markdown",
   "id": "e7ce2b89",
   "metadata": {},
   "source": [
    "# POMDPs Sizes"
   ]
  },
  {
   "cell_type": "code",
   "execution_count": 3,
   "id": "d87979f9",
   "metadata": {
    "slideshow": {
     "slide_type": "skip"
    }
   },
   "outputs": [
    {
     "ename": "NameError",
     "evalue": "name 'get_all_experiments_attr' is not defined",
     "output_type": "error",
     "traceback": [
      "\u001b[0;31m---------------------------------------------------------------------------\u001b[0m",
      "\u001b[0;31mNameError\u001b[0m                                 Traceback (most recent call last)",
      "Cell \u001b[0;32mIn[3], line 1\u001b[0m\n\u001b[0;32m----> 1\u001b[0m df \u001b[38;5;241m=\u001b[39m \u001b[43mget_all_experiments_attr\u001b[49m(experiments_ids, EXPAttr\u001b[38;5;241m.\u001b[39mPOMDP_SIZE)\n\u001b[1;32m      3\u001b[0m df\n",
      "\u001b[0;31mNameError\u001b[0m: name 'get_all_experiments_attr' is not defined"
     ]
    }
   ],
   "source": [
    "df = get_all_experiments_attr(experiments_ids, EXPAttr.POMDP_SIZE)\n",
    "\n",
    "df"
   ]
  },
  {
   "cell_type": "code",
   "execution_count": null,
   "id": "e82af863",
   "metadata": {
    "slideshow": {
     "slide_type": "skip"
    }
   },
   "outputs": [
    {
     "data": {
      "text/plain": [
       "experiment\n",
       "ghz-embed         1275\n",
       "bitflip-ipma       225\n",
       "bitflip-cxh        225\n",
       "bitflip-ipma2       83\n",
       "phaseflip-ipma      83\n",
       "reset-main          83\n",
       "Name: count, dtype: int64"
      ]
     },
     "execution_count": 4,
     "metadata": {},
     "output_type": "execute_result"
    }
   ],
   "source": [
    "# Count entries with the same experiment\n",
    "# experiment_counts = df['experiment'].value_counts()\n",
    "# experiment_counts"
   ]
  },
  {
   "cell_type": "code",
   "execution_count": null,
   "id": "b5331793",
   "metadata": {},
   "outputs": [
    {
     "data": {
      "text/plain": [
       "experiment\n",
       "bitflip-cxh              [353]\n",
       "bitflip-ipma              [33]\n",
       "bitflip-ipma2             [17]\n",
       "ghz-embed         [57, 51, 38]\n",
       "phaseflip-ipma            [17]\n",
       "reset-main                 [4]\n",
       "Name: num_states, dtype: object"
      ]
     },
     "execution_count": 10,
     "metadata": {},
     "output_type": "execute_result"
    }
   ],
   "source": [
    "# num_states_counts = df.groupby('experiment')[\"num_states\"].unique()\n",
    "# num_states_counts"
   ]
  },
  {
   "cell_type": "markdown",
   "id": "85a740ec",
   "metadata": {},
   "source": [
    "# POMDPs Times"
   ]
  },
  {
   "cell_type": "code",
   "execution_count": 3,
   "id": "363b2297",
   "metadata": {},
   "outputs": [
    {
     "data": {
      "text/html": [
       "<div>\n",
       "<style scoped>\n",
       "    .dataframe tbody tr th:only-of-type {\n",
       "        vertical-align: middle;\n",
       "    }\n",
       "\n",
       "    .dataframe tbody tr th {\n",
       "        vertical-align: top;\n",
       "    }\n",
       "\n",
       "    .dataframe thead th {\n",
       "        text-align: right;\n",
       "    }\n",
       "</style>\n",
       "<table border=\"1\" class=\"dataframe\">\n",
       "  <thead>\n",
       "    <tr style=\"text-align: right;\">\n",
       "      <th></th>\n",
       "      <th>experiment</th>\n",
       "      <th>pomdp_time</th>\n",
       "    </tr>\n",
       "  </thead>\n",
       "  <tbody>\n",
       "    <tr>\n",
       "      <th>0</th>\n",
       "      <td>bitflip-ipma</td>\n",
       "      <td>0.266238</td>\n",
       "    </tr>\n",
       "    <tr>\n",
       "      <th>1</th>\n",
       "      <td>bitflip-ipma</td>\n",
       "      <td>0.276269</td>\n",
       "    </tr>\n",
       "    <tr>\n",
       "      <th>2</th>\n",
       "      <td>bitflip-ipma</td>\n",
       "      <td>0.259435</td>\n",
       "    </tr>\n",
       "    <tr>\n",
       "      <th>3</th>\n",
       "      <td>bitflip-ipma</td>\n",
       "      <td>0.265611</td>\n",
       "    </tr>\n",
       "    <tr>\n",
       "      <th>4</th>\n",
       "      <td>bitflip-ipma</td>\n",
       "      <td>0.271420</td>\n",
       "    </tr>\n",
       "    <tr>\n",
       "      <th>...</th>\n",
       "      <td>...</td>\n",
       "      <td>...</td>\n",
       "    </tr>\n",
       "    <tr>\n",
       "      <th>1969</th>\n",
       "      <td>reset-main</td>\n",
       "      <td>0.000826</td>\n",
       "    </tr>\n",
       "    <tr>\n",
       "      <th>1970</th>\n",
       "      <td>reset-main</td>\n",
       "      <td>0.000873</td>\n",
       "    </tr>\n",
       "    <tr>\n",
       "      <th>1971</th>\n",
       "      <td>reset-main</td>\n",
       "      <td>0.001114</td>\n",
       "    </tr>\n",
       "    <tr>\n",
       "      <th>1972</th>\n",
       "      <td>reset-main</td>\n",
       "      <td>0.000744</td>\n",
       "    </tr>\n",
       "    <tr>\n",
       "      <th>1973</th>\n",
       "      <td>reset-main</td>\n",
       "      <td>0.001593</td>\n",
       "    </tr>\n",
       "  </tbody>\n",
       "</table>\n",
       "<p>1974 rows × 2 columns</p>\n",
       "</div>"
      ],
      "text/plain": [
       "        experiment  pomdp_time\n",
       "0     bitflip-ipma    0.266238\n",
       "1     bitflip-ipma    0.276269\n",
       "2     bitflip-ipma    0.259435\n",
       "3     bitflip-ipma    0.265611\n",
       "4     bitflip-ipma    0.271420\n",
       "...            ...         ...\n",
       "1969    reset-main    0.000826\n",
       "1970    reset-main    0.000873\n",
       "1971    reset-main    0.001114\n",
       "1972    reset-main    0.000744\n",
       "1973    reset-main    0.001593\n",
       "\n",
       "[1974 rows x 2 columns]"
      ]
     },
     "execution_count": 3,
     "metadata": {},
     "output_type": "execute_result"
    }
   ],
   "source": [
    "df = get_all_experiments_attr(experiments_ids, EXPAttr.POMDP_TIME)\n",
    "\n",
    "df"
   ]
  },
  {
   "cell_type": "code",
   "execution_count": 5,
   "id": "2382917e",
   "metadata": {},
   "outputs": [
    {
     "data": {
      "text/html": [
       "<div>\n",
       "<style scoped>\n",
       "    .dataframe tbody tr th:only-of-type {\n",
       "        vertical-align: middle;\n",
       "    }\n",
       "\n",
       "    .dataframe tbody tr th {\n",
       "        vertical-align: top;\n",
       "    }\n",
       "\n",
       "    .dataframe thead th {\n",
       "        text-align: right;\n",
       "    }\n",
       "</style>\n",
       "<table border=\"1\" class=\"dataframe\">\n",
       "  <thead>\n",
       "    <tr style=\"text-align: right;\">\n",
       "      <th></th>\n",
       "      <th>experiment</th>\n",
       "      <th>mean</th>\n",
       "      <th>min</th>\n",
       "      <th>max</th>\n",
       "    </tr>\n",
       "  </thead>\n",
       "  <tbody>\n",
       "    <tr>\n",
       "      <th>0</th>\n",
       "      <td>bitflip-cxh</td>\n",
       "      <td>12.206964</td>\n",
       "      <td>9.583621</td>\n",
       "      <td>27.608212</td>\n",
       "    </tr>\n",
       "    <tr>\n",
       "      <th>1</th>\n",
       "      <td>bitflip-ipma</td>\n",
       "      <td>0.340987</td>\n",
       "      <td>0.255240</td>\n",
       "      <td>1.179058</td>\n",
       "    </tr>\n",
       "    <tr>\n",
       "      <th>2</th>\n",
       "      <td>bitflip-ipma2</td>\n",
       "      <td>0.425825</td>\n",
       "      <td>0.329371</td>\n",
       "      <td>1.025690</td>\n",
       "    </tr>\n",
       "    <tr>\n",
       "      <th>3</th>\n",
       "      <td>ghz-embed</td>\n",
       "      <td>0.924752</td>\n",
       "      <td>0.384006</td>\n",
       "      <td>2.300086</td>\n",
       "    </tr>\n",
       "    <tr>\n",
       "      <th>4</th>\n",
       "      <td>phaseflip-ipma</td>\n",
       "      <td>11.571594</td>\n",
       "      <td>0.812483</td>\n",
       "      <td>32.698146</td>\n",
       "    </tr>\n",
       "    <tr>\n",
       "      <th>5</th>\n",
       "      <td>reset-main</td>\n",
       "      <td>0.000788</td>\n",
       "      <td>0.000645</td>\n",
       "      <td>0.001593</td>\n",
       "    </tr>\n",
       "  </tbody>\n",
       "</table>\n",
       "</div>"
      ],
      "text/plain": [
       "       experiment       mean       min        max\n",
       "0     bitflip-cxh  12.206964  9.583621  27.608212\n",
       "1    bitflip-ipma   0.340987  0.255240   1.179058\n",
       "2   bitflip-ipma2   0.425825  0.329371   1.025690\n",
       "3       ghz-embed   0.924752  0.384006   2.300086\n",
       "4  phaseflip-ipma  11.571594  0.812483  32.698146\n",
       "5      reset-main   0.000788  0.000645   0.001593"
      ]
     },
     "execution_count": 5,
     "metadata": {},
     "output_type": "execute_result"
    }
   ],
   "source": [
    "df.groupby(\"experiment\")[\"pomdp_time\"].agg([\"mean\", \"min\", \"max\"]).reset_index()"
   ]
  },
  {
   "cell_type": "markdown",
   "id": "3e4c9fa1",
   "metadata": {},
   "source": [
    "# Bellman Times"
   ]
  },
  {
   "cell_type": "code",
   "execution_count": 2,
   "id": "a9b01ceb",
   "metadata": {},
   "outputs": [
    {
     "data": {
      "text/html": [
       "<div>\n",
       "<style scoped>\n",
       "    .dataframe tbody tr th:only-of-type {\n",
       "        vertical-align: middle;\n",
       "    }\n",
       "\n",
       "    .dataframe tbody tr th {\n",
       "        vertical-align: top;\n",
       "    }\n",
       "\n",
       "    .dataframe thead th {\n",
       "        text-align: right;\n",
       "    }\n",
       "</style>\n",
       "<table border=\"1\" class=\"dataframe\">\n",
       "  <thead>\n",
       "    <tr style=\"text-align: right;\">\n",
       "      <th></th>\n",
       "      <th>experiment</th>\n",
       "      <th>horizon</th>\n",
       "      <th>bellman_time</th>\n",
       "    </tr>\n",
       "  </thead>\n",
       "  <tbody>\n",
       "    <tr>\n",
       "      <th>0</th>\n",
       "      <td>bitflip-ipma</td>\n",
       "      <td>4</td>\n",
       "      <td>15.0</td>\n",
       "    </tr>\n",
       "    <tr>\n",
       "      <th>1</th>\n",
       "      <td>bitflip-ipma</td>\n",
       "      <td>5</td>\n",
       "      <td>69.0</td>\n",
       "    </tr>\n",
       "    <tr>\n",
       "      <th>2</th>\n",
       "      <td>bitflip-ipma</td>\n",
       "      <td>6</td>\n",
       "      <td>305.0</td>\n",
       "    </tr>\n",
       "    <tr>\n",
       "      <th>3</th>\n",
       "      <td>bitflip-ipma</td>\n",
       "      <td>7</td>\n",
       "      <td>1328.0</td>\n",
       "    </tr>\n",
       "    <tr>\n",
       "      <th>4</th>\n",
       "      <td>bitflip-ipma</td>\n",
       "      <td>4</td>\n",
       "      <td>15.0</td>\n",
       "    </tr>\n",
       "    <tr>\n",
       "      <th>...</th>\n",
       "      <td>...</td>\n",
       "      <td>...</td>\n",
       "      <td>...</td>\n",
       "    </tr>\n",
       "    <tr>\n",
       "      <th>3802</th>\n",
       "      <td>reset-main</td>\n",
       "      <td>3</td>\n",
       "      <td>0.0</td>\n",
       "    </tr>\n",
       "    <tr>\n",
       "      <th>3803</th>\n",
       "      <td>reset-main</td>\n",
       "      <td>4</td>\n",
       "      <td>1.0</td>\n",
       "    </tr>\n",
       "    <tr>\n",
       "      <th>3804</th>\n",
       "      <td>reset-main</td>\n",
       "      <td>5</td>\n",
       "      <td>2.0</td>\n",
       "    </tr>\n",
       "    <tr>\n",
       "      <th>3805</th>\n",
       "      <td>reset-main</td>\n",
       "      <td>6</td>\n",
       "      <td>5.0</td>\n",
       "    </tr>\n",
       "    <tr>\n",
       "      <th>3806</th>\n",
       "      <td>reset-main</td>\n",
       "      <td>7</td>\n",
       "      <td>16.0</td>\n",
       "    </tr>\n",
       "  </tbody>\n",
       "</table>\n",
       "<p>3807 rows × 3 columns</p>\n",
       "</div>"
      ],
      "text/plain": [
       "        experiment  horizon  bellman_time\n",
       "0     bitflip-ipma        4          15.0\n",
       "1     bitflip-ipma        5          69.0\n",
       "2     bitflip-ipma        6         305.0\n",
       "3     bitflip-ipma        7        1328.0\n",
       "4     bitflip-ipma        4          15.0\n",
       "...            ...      ...           ...\n",
       "3802    reset-main        3           0.0\n",
       "3803    reset-main        4           1.0\n",
       "3804    reset-main        5           2.0\n",
       "3805    reset-main        6           5.0\n",
       "3806    reset-main        7          16.0\n",
       "\n",
       "[3807 rows x 3 columns]"
      ]
     },
     "execution_count": 2,
     "metadata": {},
     "output_type": "execute_result"
    }
   ],
   "source": [
    "df = get_all_experiments_attr([BitflipExperimentID.IPMA, BitflipExperimentID.IPMA2, PhaseflipExperimentID.IPMA, GHZExperimentID.EMBED, ResetExperimentID.main], EXPAttr.BELLMAN_TIME)\n",
    "df"
   ]
  },
  {
   "cell_type": "code",
   "execution_count": null,
   "id": "cdfd9100",
   "metadata": {},
   "outputs": [
    {
     "data": {
      "text/html": [
       "<div>\n",
       "<style scoped>\n",
       "    .dataframe tbody tr th:only-of-type {\n",
       "        vertical-align: middle;\n",
       "    }\n",
       "\n",
       "    .dataframe tbody tr th {\n",
       "        vertical-align: top;\n",
       "    }\n",
       "\n",
       "    .dataframe thead th {\n",
       "        text-align: right;\n",
       "    }\n",
       "</style>\n",
       "<table border=\"1\" class=\"dataframe\">\n",
       "  <thead>\n",
       "    <tr style=\"text-align: right;\">\n",
       "      <th></th>\n",
       "      <th>experiment</th>\n",
       "      <th>horizon</th>\n",
       "      <th>bellman_time</th>\n",
       "    </tr>\n",
       "  </thead>\n",
       "  <tbody>\n",
       "    <tr>\n",
       "      <th>0</th>\n",
       "      <td>bitflip-ipma</td>\n",
       "      <td>4</td>\n",
       "      <td>15.0</td>\n",
       "    </tr>\n",
       "    <tr>\n",
       "      <th>1</th>\n",
       "      <td>bitflip-ipma</td>\n",
       "      <td>5</td>\n",
       "      <td>69.0</td>\n",
       "    </tr>\n",
       "    <tr>\n",
       "      <th>2</th>\n",
       "      <td>bitflip-ipma</td>\n",
       "      <td>6</td>\n",
       "      <td>305.0</td>\n",
       "    </tr>\n",
       "    <tr>\n",
       "      <th>3</th>\n",
       "      <td>bitflip-ipma</td>\n",
       "      <td>7</td>\n",
       "      <td>1328.0</td>\n",
       "    </tr>\n",
       "    <tr>\n",
       "      <th>4</th>\n",
       "      <td>bitflip-ipma</td>\n",
       "      <td>4</td>\n",
       "      <td>15.0</td>\n",
       "    </tr>\n",
       "    <tr>\n",
       "      <th>...</th>\n",
       "      <td>...</td>\n",
       "      <td>...</td>\n",
       "      <td>...</td>\n",
       "    </tr>\n",
       "    <tr>\n",
       "      <th>2029</th>\n",
       "      <td>phaseflip-ipma</td>\n",
       "      <td>3</td>\n",
       "      <td>3.0</td>\n",
       "    </tr>\n",
       "    <tr>\n",
       "      <th>2030</th>\n",
       "      <td>phaseflip-ipma</td>\n",
       "      <td>4</td>\n",
       "      <td>11.0</td>\n",
       "    </tr>\n",
       "    <tr>\n",
       "      <th>2031</th>\n",
       "      <td>phaseflip-ipma</td>\n",
       "      <td>5</td>\n",
       "      <td>49.0</td>\n",
       "    </tr>\n",
       "    <tr>\n",
       "      <th>2032</th>\n",
       "      <td>phaseflip-ipma</td>\n",
       "      <td>6</td>\n",
       "      <td>205.0</td>\n",
       "    </tr>\n",
       "    <tr>\n",
       "      <th>2033</th>\n",
       "      <td>phaseflip-ipma</td>\n",
       "      <td>7</td>\n",
       "      <td>804.0</td>\n",
       "    </tr>\n",
       "  </tbody>\n",
       "</table>\n",
       "<p>2034 rows × 3 columns</p>\n",
       "</div>"
      ],
      "text/plain": [
       "          experiment  horizon  bellman_time\n",
       "0       bitflip-ipma        4          15.0\n",
       "1       bitflip-ipma        5          69.0\n",
       "2       bitflip-ipma        6         305.0\n",
       "3       bitflip-ipma        7        1328.0\n",
       "4       bitflip-ipma        4          15.0\n",
       "...              ...      ...           ...\n",
       "2029  phaseflip-ipma        3           3.0\n",
       "2030  phaseflip-ipma        4          11.0\n",
       "2031  phaseflip-ipma        5          49.0\n",
       "2032  phaseflip-ipma        6         205.0\n",
       "2033  phaseflip-ipma        7         804.0\n",
       "\n",
       "[2034 rows x 3 columns]"
      ]
     },
     "execution_count": 5,
     "metadata": {},
     "output_type": "execute_result"
    }
   ],
   "source": []
  },
  {
   "cell_type": "code",
   "execution_count": 7,
   "id": "5de88e5b",
   "metadata": {},
   "outputs": [
    {
     "data": {
      "text/plain": [
       "<Axes: xlabel='horizon', ylabel='bellman_time'>"
      ]
     },
     "execution_count": 7,
     "metadata": {},
     "output_type": "execute_result"
    },
    {
     "data": {
      "image/png": "[encoded data removed]",
      "text/plain": [
       "<Figure size 640x480 with 1 Axes>"
      ]
     },
     "metadata": {},
     "output_type": "display_data"
    }
   ],
   "source": [
    "sns.scatterplot(df, x=\"horizon\", y=\"bellman_time\", hue=\"experiment\")"
   ]
  }
 ],
 "metadata": {
  "kernelspec": {
   "display_name": ".env",
   "language": "python",
   "name": "python3"
  },
  "language_info": {
   "codemirror_mode": {
    "name": "ipython",
    "version": 3
   },
   "file_extension": ".py",
   "mimetype": "text/x-python",
   "name": "python",
   "nbconvert_exporter": "python",
   "pygments_lexer": "ipython3",
   "version": "3.10.13"
  }
 },
 "nbformat": 4,
 "nbformat_minor": 5
}
