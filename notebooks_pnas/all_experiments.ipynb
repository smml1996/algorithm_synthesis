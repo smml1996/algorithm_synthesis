{
 "cells": [
  {
   "cell_type": "code",
   "execution_count": 1,
   "id": "b3309c6a",
   "metadata": {},
   "outputs": [],
   "source": [
    "from notebook_utils import *"
   ]
  },
  {
   "cell_type": "code",
   "execution_count": 2,
   "id": "8de8b994",
   "metadata": {},
   "outputs": [],
   "source": [
    "experiments_ids = [BitflipExperimentID.IPMA2, PhaseflipExperimentID.IPMA, ResetExperimentID.main]"
   ]
  },
  {
   "cell_type": "code",
   "execution_count": 5,
   "id": "dfb7b4f0",
   "metadata": {},
   "outputs": [
    {
     "data": {
      "text/plain": [
       "{6: [('fake_quito', 1, 0.9991861628175757),\n",
       "  ('fake_sydney', 0, 0.9994844904373222),\n",
       "  ('fake_melbourne', 4, 0.9992838536063355)],\n",
       " 7: [('fake_quito', 1, 0.9995534320584215),\n",
       "  ('fake_johannesburg', 1, 0.9985496748810594),\n",
       "  ('fake_almaden', 1, 0.9986475330167655),\n",
       "  ('fake_almaden', 4, 0.9991993807113562),\n",
       "  ('fake_tokyo', 4, 0.9987415706671244),\n",
       "  ('fake_sydney', 0, 0.9997020534858817),\n",
       "  ('fake_manhattan', 0, 0.9985032672474172),\n",
       "  ('fake_melbourne', 1, 0.9989964961776702),\n",
       "  ('fake_melbourne', 4, 0.9994932409673649)],\n",
       " 5: [('fake_tokyo', 3, 0.998801369391138),\n",
       "  ('fake_sydney', 0, 0.9985244009738699),\n",
       "  ('fake_manhattan', 1, 0.9986528280645689)]}"
      ]
     },
     "execution_count": 5,
     "metadata": {},
     "output_type": "execute_result"
    }
   ],
   "source": [
    "mc_guarantees_file_name = \"mc_guarantees_.csv\"\n",
    "counts_dicts = dict() # horizon -> List[hardware_specs]\n",
    "all_lambdas = load_all_lambdas(ResetExperimentID.main)\n",
    "for experiment_id in [ResetExperimentID.main]:\n",
    "    file_path = os.path.join(get_project_path(), get_experiment_name_path(experiment_id), experiment_id.value, mc_guarantees_file_name)\n",
    "    f = open(file_path)\n",
    "    lines = f.readlines()[1:]\n",
    "    f.close()\n",
    "    for line in lines:\n",
    "        elements = line.split(\",\")\n",
    "        hardware = elements[0]\n",
    "        embedding_index = int(elements[1])\n",
    "        horizon = int(elements[2])\n",
    "        my_guarantee = float(elements[3])\n",
    "        trad_guarantee = float(elements[4])\n",
    "        best_trad_guarantee = float(elements[6])\n",
    "        if my_guarantee >= 0.999 and (best_trad_guarantee < 0.999):\n",
    "            if horizon not in counts_dicts.keys():\n",
    "                counts_dicts[horizon] = []\n",
    "            counts_dicts[horizon].append((hardware, embedding_index, all_lambdas[find_enum_object(hardware, HardwareSpec)][embedding_index][horizon]))\n",
    "counts_dicts"
   ]
  },
  {
   "cell_type": "code",
   "execution_count": null,
   "id": "a1c78793",
   "metadata": {},
   "outputs": [],
   "source": []
  },
  {
   "cell_type": "code",
   "execution_count": 20,
   "id": "a4ed97ab",
   "metadata": {},
   "outputs": [
    {
     "name": "stdout",
     "output_type": "stream",
     "text": [
      "7 14\n",
      "6 7\n",
      "5 9\n"
     ]
    }
   ],
   "source": [
    "for (horizon, hardware_specs) in counts_dicts.items():\n",
    "    print(horizon, len(hardware_specs))"
   ]
  },
  {
   "cell_type": "code",
   "execution_count": 34,
   "id": "8aa6702f",
   "metadata": {},
   "outputs": [
    {
     "name": "stdout",
     "output_type": "stream",
     "text": [
      "fake_hanoi 0.99 0.988 0.002\n",
      "fake_auckland 0.99 0.979 0.011\n",
      "fake_geneva 0.99 0.982 0.008\n"
     ]
    }
   ],
   "source": [
    "experiment_id = GHZExperimentID.EMBED\n",
    "file_path = os.path.join(get_project_path(), get_experiment_name_path(experiment_id),\"guarantees_embed.csv\")\n",
    "f = open(file_path)\n",
    "lines = f.readlines()[1:]\n",
    "f.close()\n",
    "for line in lines:\n",
    "    elements = line.split(\",\")\n",
    "    hardware = elements[0]\n",
    "    my_guarantee = float(elements[1])\n",
    "    trad_guarantee = float(elements[2])\n",
    "    diff = float(elements[3])\n",
    "    if my_guarantee >= 0.99 and (my_guarantee != trad_guarantee):\n",
    "        print(hardware,my_guarantee, trad_guarantee, diff)\n",
    "\n"
   ]
  }
 ],
 "metadata": {
  "kernelspec": {
   "display_name": ".env",
   "language": "python",
   "name": "python3"
  },
  "language_info": {
   "codemirror_mode": {
    "name": "ipython",
    "version": 3
   },
   "file_extension": ".py",
   "mimetype": "text/x-python",
   "name": "python",
   "nbconvert_exporter": "python",
   "pygments_lexer": "ipython3",
   "version": "3.10.13"
  }
 },
 "nbformat": 4,
 "nbformat_minor": 5
}
