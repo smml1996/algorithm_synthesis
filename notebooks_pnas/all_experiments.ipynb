{
 "cells": [
  {
   "cell_type": "code",
   "execution_count": null,
   "id": "b3309c6a",
   "metadata": {},
   "outputs": [],
   "source": [
    "from notebook_utils import *"
   ]
  },
  {
   "cell_type": "code",
   "execution_count": 2,
   "id": "8de8b994",
   "metadata": {},
   "outputs": [],
   "source": [
    "experiments_ids = [BitflipExperimentID.IPMA2, PhaseflipExperimentID.IPMA, ResetExperimentID.main]"
   ]
  },
  {
   "cell_type": "code",
   "execution_count": 3,
   "id": "dfb7b4f0",
   "metadata": {},
   "outputs": [
    {
     "ename": "NameError",
     "evalue": "name 'load_all_lambdas' is not defined",
     "output_type": "error",
     "traceback": [
      "\u001b[0;31m---------------------------------------------------------------------------\u001b[0m",
      "\u001b[0;31mNameError\u001b[0m                                 Traceback (most recent call last)",
      "Cell \u001b[0;32mIn[3], line 3\u001b[0m\n\u001b[1;32m      1\u001b[0m mc_guarantees_file_name \u001b[38;5;241m=\u001b[39m \u001b[38;5;124m\"\u001b[39m\u001b[38;5;124mmc_guarantees_.csv\u001b[39m\u001b[38;5;124m\"\u001b[39m\n\u001b[1;32m      2\u001b[0m counts_dicts \u001b[38;5;241m=\u001b[39m \u001b[38;5;28mdict\u001b[39m() \u001b[38;5;66;03m# horizon -> List[hardware_specs]\u001b[39;00m\n\u001b[0;32m----> 3\u001b[0m all_lambdas \u001b[38;5;241m=\u001b[39m \u001b[43mload_all_lambdas\u001b[49m(ResetExperimentID\u001b[38;5;241m.\u001b[39mmain)\n\u001b[1;32m      4\u001b[0m \u001b[38;5;28;01mfor\u001b[39;00m experiment_id \u001b[38;5;129;01min\u001b[39;00m [ResetExperimentID\u001b[38;5;241m.\u001b[39mmain]:\n\u001b[1;32m      5\u001b[0m     file_path \u001b[38;5;241m=\u001b[39m os\u001b[38;5;241m.\u001b[39mpath\u001b[38;5;241m.\u001b[39mjoin(get_project_path(), get_experiment_name_path(experiment_id), experiment_id\u001b[38;5;241m.\u001b[39mvalue, mc_guarantees_file_name)\n",
      "\u001b[0;31mNameError\u001b[0m: name 'load_all_lambdas' is not defined"
     ]
    }
   ],
   "source": [
    "mc_guarantees_file_name = \"mc_guarantees_.csv\"\n",
    "counts_dicts = dict() # horizon -> List[hardware_specs]\n",
    "all_lambdas = load_all_lambdas(ResetExperimentID.main)\n",
    "for experiment_id in [ResetExperimentID.main]:\n",
    "    file_path = os.path.join(get_project_path(), get_experiment_name_path(experiment_id), experiment_id.value, mc_guarantees_file_name)\n",
    "    f = open(file_path)\n",
    "    lines = f.readlines()[1:]\n",
    "    f.close()\n",
    "    for line in lines:\n",
    "        elements = line.split(\",\")\n",
    "        hardware = elements[0]\n",
    "        embedding_index = int(elements[1])\n",
    "        horizon = int(elements[2])\n",
    "        my_guarantee = float(elements[3])\n",
    "        trad_guarantee = float(elements[4])\n",
    "        best_trad_guarantee = float(elements[6])\n",
    "        if my_guarantee >= 0.999 and (best_trad_guarantee < 0.999):\n",
    "            if horizon not in counts_dicts.keys():\n",
    "                counts_dicts[horizon] = []\n",
    "            counts_dicts[horizon].append((hardware, embedding_index, all_lambdas[find_enum_object(hardware, HardwareSpec)][embedding_index][horizon]))\n",
    "counts_dicts"
   ]
  },
  {
   "cell_type": "code",
   "execution_count": null,
   "id": "a1c78793",
   "metadata": {},
   "outputs": [],
   "source": []
  },
  {
   "cell_type": "code",
   "execution_count": 20,
   "id": "a4ed97ab",
   "metadata": {},
   "outputs": [
    {
     "name": "stdout",
     "output_type": "stream",
     "text": [
      "7 14\n",
      "6 7\n",
      "5 9\n"
     ]
    }
   ],
   "source": [
    "for (horizon, hardware_specs) in counts_dicts.items():\n",
    "    print(horizon, len(hardware_specs))"
   ]
  },
  {
   "cell_type": "code",
   "execution_count": 34,
   "id": "8aa6702f",
   "metadata": {},
   "outputs": [
    {
     "name": "stdout",
     "output_type": "stream",
     "text": [
      "fake_hanoi 0.99 0.988 0.002\n",
      "fake_auckland 0.99 0.979 0.011\n",
      "fake_geneva 0.99 0.982 0.008\n"
     ]
    }
   ],
   "source": [
    "experiment_id = GHZExperimentID.EMBED\n",
    "file_path = os.path.join(get_project_path(), get_experiment_name_path(experiment_id),\"guarantees_embed.csv\")\n",
    "f = open(file_path)\n",
    "lines = f.readlines()[1:]\n",
    "f.close()\n",
    "for line in lines:\n",
    "    elements = line.split(\",\")\n",
    "    hardware = elements[0]\n",
    "    my_guarantee = float(elements[1])\n",
    "    trad_guarantee = float(elements[2])\n",
    "    diff = float(elements[3])\n",
    "    if my_guarantee >= 0.99 and (my_guarantee != trad_guarantee):\n",
    "        print(hardware,my_guarantee, trad_guarantee, diff)\n",
    "\n"
   ]
  },
  {
   "cell_type": "markdown",
   "id": "e1b6e9a2",
   "metadata": {},
   "source": [
    "# Error in single qubit gates"
   ]
  },
  {
   "cell_type": "code",
   "execution_count": 2,
   "id": "08b87e76",
   "metadata": {},
   "outputs": [],
   "source": [
    "error_rates = []\n",
    "for hardware_spec in HardwareSpec:\n",
    "    noise_model = NoiseModel(hardware_spec, thermal_relaxation=False)\n",
    "    \n",
    "    for (instruction, channel) in noise_model.instructions_to_channel.items():\n",
    "        assert isinstance(instruction, Instruction)\n",
    "        \n",
    "        if (not is_multiqubit_gate(instruction.op)):\n",
    "            if  not instruction.is_meas_instruction():\n",
    "                assert isinstance(channel, QuantumChannel)\n",
    "                error_rates.append(channel.estimated_success_prob)\n",
    "                \n",
    "df = pd.DataFrame.from_dict({\n",
    "            'error_rates': error_rates,\n",
    "        }) "
   ]
  },
  {
   "cell_type": "code",
   "execution_count": 3,
   "id": "42c0c99e",
   "metadata": {},
   "outputs": [
    {
     "data": {
      "text/html": [
       "<div>\n",
       "<style scoped>\n",
       "    .dataframe tbody tr th:only-of-type {\n",
       "        vertical-align: middle;\n",
       "    }\n",
       "\n",
       "    .dataframe tbody tr th {\n",
       "        vertical-align: top;\n",
       "    }\n",
       "\n",
       "    .dataframe thead th {\n",
       "        text-align: right;\n",
       "    }\n",
       "</style>\n",
       "<table border=\"1\" class=\"dataframe\">\n",
       "  <thead>\n",
       "    <tr style=\"text-align: right;\">\n",
       "      <th></th>\n",
       "      <th>error_rates</th>\n",
       "    </tr>\n",
       "  </thead>\n",
       "  <tbody>\n",
       "    <tr>\n",
       "      <th>count</th>\n",
       "      <td>4232.000000</td>\n",
       "    </tr>\n",
       "    <tr>\n",
       "      <th>mean</th>\n",
       "      <td>0.999150</td>\n",
       "    </tr>\n",
       "    <tr>\n",
       "      <th>std</th>\n",
       "      <td>0.002319</td>\n",
       "    </tr>\n",
       "    <tr>\n",
       "      <th>min</th>\n",
       "      <td>0.959810</td>\n",
       "    </tr>\n",
       "    <tr>\n",
       "      <th>25%</th>\n",
       "      <td>0.999291</td>\n",
       "    </tr>\n",
       "    <tr>\n",
       "      <th>50%</th>\n",
       "      <td>0.999659</td>\n",
       "    </tr>\n",
       "    <tr>\n",
       "      <th>75%</th>\n",
       "      <td>1.000000</td>\n",
       "    </tr>\n",
       "    <tr>\n",
       "      <th>max</th>\n",
       "      <td>1.000000</td>\n",
       "    </tr>\n",
       "  </tbody>\n",
       "</table>\n",
       "</div>"
      ],
      "text/plain": [
       "       error_rates\n",
       "count  4232.000000\n",
       "mean      0.999150\n",
       "std       0.002319\n",
       "min       0.959810\n",
       "25%       0.999291\n",
       "50%       0.999659\n",
       "75%       1.000000\n",
       "max       1.000000"
      ]
     },
     "execution_count": 3,
     "metadata": {},
     "output_type": "execute_result"
    }
   ],
   "source": [
    "df.describe()"
   ]
  }
 ],
 "metadata": {
  "kernelspec": {
   "display_name": "Python 3 (ipykernel)",
   "language": "python",
   "name": "python3"
  },
  "language_info": {
   "codemirror_mode": {
    "name": "ipython",
    "version": 3
   },
   "file_extension": ".py",
   "mimetype": "text/x-python",
   "name": "python",
   "nbconvert_exporter": "python",
   "pygments_lexer": "ipython3",
   "version": "3.10.13"
  }
 },
 "nbformat": 4,
 "nbformat_minor": 5
}
