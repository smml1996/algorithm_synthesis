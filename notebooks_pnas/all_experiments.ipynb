{
 "cells": [
  {
   "cell_type": "code",
   "execution_count": 1,
   "id": "b3309c6a",
   "metadata": {},
   "outputs": [],
   "source": [
    "from notebook_utils import *"
   ]
  },
  {
   "cell_type": "code",
   "execution_count": 2,
   "id": "8de8b994",
   "metadata": {},
   "outputs": [],
   "source": [
    "experiments_ids = [BitflipExperimentID.IPMA2, PhaseflipExperimentID.IPMA, ResetExperimentID.main]"
   ]
  },
  {
   "cell_type": "code",
   "execution_count": 7,
   "id": "dfb7b4f0",
   "metadata": {},
   "outputs": [
    {
     "data": {
      "text/plain": [
       "{6: [('fake_belem', 0, 0.9995763545600939),\n",
       "  ('fake_london', 1, 0.9999292698943443),\n",
       "  ('fake_quito', 0, 0.9998415520778541),\n",
       "  ('fake_quito', 1, 0.9991861628175757),\n",
       "  ('fake_yorktown', 2, 0.9995542267206531),\n",
       "  ('fake_johannesburg', 3, 0.9997839672430161),\n",
       "  ('fake_almaden', 3, 0.9998334763435842),\n",
       "  ('fake_almaden', 5, 0.9998898400317076),\n",
       "  ('fake_boeblingen', 1, 0.9998042970927153),\n",
       "  ('fake_poughkeepsie', 0, 0.9997934808043892),\n",
       "  ('fake_tokyo', 3, 0.9995641049032341),\n",
       "  ('fake_tokyo', 5, 0.9997439706089121),\n",
       "  ('fake_nairobi', 0, 0.9995639064706446),\n",
       "  ('fake_nairobi', 2, 0.9995394192249738),\n",
       "  ('fake_cairo', 6, 0.9999472507374284),\n",
       "  ('fake_sydney', 0, 0.9994844904373222),\n",
       "  ('fake_cambridge', 3, 0.9998603543796738),\n",
       "  ('fake_melbourne', 4, 0.9992838536063355),\n",
       "  ('fake_rochester', 3, 0.9999557723146539)],\n",
       " 7: [('fake_burlington', 1, 0.9997620765054932),\n",
       "  ('fake_essex', 0, 0.9998480686040007),\n",
       "  ('fake_essex', 1, 0.9996630217301619),\n",
       "  ('fake_lima', 1, 0.9995157418427825),\n",
       "  ('fake_london', 0, 0.9995217022613543),\n",
       "  ('fake_quito', 0, 0.9999439725816021),\n",
       "  ('fake_quito', 1, 0.9995534320584215),\n",
       "  ('fake_yorktown', 0, 0.9997788624349746),\n",
       "  ('fake_johannesburg', 1, 0.9985496748810594),\n",
       "  ('fake_johannesburg', 3, 0.9999545009400462),\n",
       "  ('fake_almaden', 1, 0.9986475330167655),\n",
       "  ('fake_almaden', 4, 0.9991993807113562),\n",
       "  ('fake_almaden', 5, 0.9999413414866023),\n",
       "  ('fake_boeblingen', 1, 0.9999562071693736),\n",
       "  ('fake_boeblingen', 2, 0.9995557303357827),\n",
       "  ('fake_poughkeepsie', 0, 0.9999536211815742),\n",
       "  ('fake_poughkeepsie', 1, 0.9998258686198404),\n",
       "  ('fake_tokyo', 3, 0.9998796762819325),\n",
       "  ('fake_tokyo', 4, 0.9987415706671244),\n",
       "  ('fake_tokyo', 5, 0.9998842739243418),\n",
       "  ('fake_hanoi', 0, 0.9997856930065597),\n",
       "  ('fake_montreal', 2, 0.999514349971724),\n",
       "  ('fake_sydney', 0, 0.9997020534858817),\n",
       "  ('fake_manhattan', 0, 0.9985032672474172),\n",
       "  ('fake_manhattan', 1, 0.9997097917980378),\n",
       "  ('fake_melbourne', 1, 0.9989964961776702),\n",
       "  ('fake_melbourne', 4, 0.9994932409673649),\n",
       "  ('fake_rochester', 3, 0.9999913732946547),\n",
       "  ('fake_washington', 2, 0.9995025136641568)],\n",
       " 5: [('fake_london', 1, 0.999801226471188),\n",
       "  ('fake_quito', 0, 0.9995617916558268),\n",
       "  ('fake_almaden', 3, 0.999640429431357),\n",
       "  ('fake_almaden', 5, 0.9995789110827271),\n",
       "  ('fake_poughkeepsie', 0, 0.9995693690679611),\n",
       "  ('fake_tokyo', 3, 0.998801369391138),\n",
       "  ('fake_casablanca', 0, 0.9996732272679213),\n",
       "  ('fake_jakarta', 0, 0.999508602119694),\n",
       "  ('fake_cairo', 5, 0.9995974655596551),\n",
       "  ('fake_cairo', 6, 0.9998631043925141),\n",
       "  ('fake_sydney', 0, 0.9985244009738699),\n",
       "  ('fake_brooklyn', 1, 0.9995827725870152),\n",
       "  ('fake_manhattan', 1, 0.9986528280645689),\n",
       "  ('fake_cambridge', 3, 0.9996915343813967),\n",
       "  ('fake_rochester', 3, 0.9998913797213144),\n",
       "  ('fake_washington', 0, 0.9995339698814028)]}"
      ]
     },
     "execution_count": 7,
     "metadata": {},
     "output_type": "execute_result"
    }
   ],
   "source": [
    "mc_guarantees_file_name = \"mc_guarantees_.csv\"\n",
    "counts_dicts = dict() # horizon -> List[hardware_specs]\n",
    "all_lambdas = load_all_lambdas(ResetExperimentID.main)\n",
    "for experiment_id in [ResetExperimentID.main]:\n",
    "    file_path = os.path.join(get_project_path(), get_experiment_name_path(experiment_id), experiment_id.value, mc_guarantees_file_name)\n",
    "    f = open(file_path)\n",
    "    lines = f.readlines()[1:]\n",
    "    f.close()\n",
    "    for line in lines:\n",
    "        elements = line.split(\",\")\n",
    "        hardware = elements[0]\n",
    "        embedding_index = int(elements[1])\n",
    "        horizon = int(elements[2])\n",
    "        my_guarantee = float(elements[3])\n",
    "        trad_guarantee = float(elements[4])\n",
    "        best_trad_guarantee = float(elements[6])\n",
    "        if my_guarantee >= 0.999 and (best_trad_guarantee != my_guarantee):\n",
    "            if horizon not in counts_dicts.keys():\n",
    "                counts_dicts[horizon] = []\n",
    "            counts_dicts[horizon].append((hardware, embedding_index, all_lambdas[find_enum_object(hardware, HardwareSpec)][embedding_index][horizon]))\n",
    "counts_dicts"
   ]
  },
  {
   "cell_type": "code",
   "execution_count": null,
   "id": "a1c78793",
   "metadata": {},
   "outputs": [],
   "source": []
  },
  {
   "cell_type": "code",
   "execution_count": 20,
   "id": "a4ed97ab",
   "metadata": {},
   "outputs": [
    {
     "name": "stdout",
     "output_type": "stream",
     "text": [
      "7 14\n",
      "6 7\n",
      "5 9\n"
     ]
    }
   ],
   "source": [
    "for (horizon, hardware_specs) in counts_dicts.items():\n",
    "    print(horizon, len(hardware_specs))"
   ]
  },
  {
   "cell_type": "code",
   "execution_count": 34,
   "id": "8aa6702f",
   "metadata": {},
   "outputs": [
    {
     "name": "stdout",
     "output_type": "stream",
     "text": [
      "fake_hanoi 0.99 0.988 0.002\n",
      "fake_auckland 0.99 0.979 0.011\n",
      "fake_geneva 0.99 0.982 0.008\n"
     ]
    }
   ],
   "source": [
    "experiment_id = GHZExperimentID.EMBED\n",
    "file_path = os.path.join(get_project_path(), get_experiment_name_path(experiment_id),\"guarantees_embed.csv\")\n",
    "f = open(file_path)\n",
    "lines = f.readlines()[1:]\n",
    "f.close()\n",
    "for line in lines:\n",
    "    elements = line.split(\",\")\n",
    "    hardware = elements[0]\n",
    "    my_guarantee = float(elements[1])\n",
    "    trad_guarantee = float(elements[2])\n",
    "    diff = float(elements[3])\n",
    "    if my_guarantee >= 0.99 and (my_guarantee != trad_guarantee):\n",
    "        print(hardware,my_guarantee, trad_guarantee, diff)\n",
    "\n"
   ]
  }
 ],
 "metadata": {
  "kernelspec": {
   "display_name": ".env",
   "language": "python",
   "name": "python3"
  },
  "language_info": {
   "codemirror_mode": {
    "name": "ipython",
    "version": 3
   },
   "file_extension": ".py",
   "mimetype": "text/x-python",
   "name": "python",
   "nbconvert_exporter": "python",
   "pygments_lexer": "ipython3",
   "version": "3.10.13"
  }
 },
 "nbformat": 4,
 "nbformat_minor": 5
}
