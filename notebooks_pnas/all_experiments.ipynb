{
 "cells": [
  {
   "cell_type": "code",
   "execution_count": 1,
   "id": "b3309c6a",
   "metadata": {},
   "outputs": [],
   "source": [
    "from notebook_utils import *"
   ]
  },
  {
   "cell_type": "code",
   "execution_count": 2,
   "id": "8de8b994",
   "metadata": {},
   "outputs": [],
   "source": [
    "experiments_ids = [BitflipExperimentID.IPMA2, PhaseflipExperimentID.IPMA, ResetExperimentID.main]"
   ]
  },
  {
   "cell_type": "code",
   "execution_count": 11,
   "id": "dfb7b4f0",
   "metadata": {},
   "outputs": [
    {
     "data": {
      "text/plain": [
       "{6: [('fake_quito', 1, 0.997, 0.9991861628175757),\n",
       "  ('fake_sydney', 0, 0.997, 0.9994844904373222),\n",
       "  ('fake_melbourne', 4, 0.997, 0.9992838536063355)],\n",
       " 7: [('fake_quito', 1, 0.998, 0.9995534320584215),\n",
       "  ('fake_almaden', 4, 0.993, 0.9991993807113562),\n",
       "  ('fake_sydney', 0, 0.998, 0.9997020534858817),\n",
       "  ('fake_melbourne', 4, 0.998, 0.9994932409673649)]}"
      ]
     },
     "execution_count": 11,
     "metadata": {},
     "output_type": "execute_result"
    }
   ],
   "source": [
    "mc_guarantees_file_name = \"mc_guarantees_.csv\"\n",
    "counts_dicts = dict() # horizon -> List[hardware_specs]\n",
    "all_lambdas = load_all_lambdas(ResetExperimentID.main)\n",
    "for experiment_id in [ResetExperimentID.main]:\n",
    "    file_path = os.path.join(get_project_path(), get_experiment_name_path(experiment_id), experiment_id.value, mc_guarantees_file_name)\n",
    "    f = open(file_path)\n",
    "    lines = f.readlines()[1:]\n",
    "    f.close()\n",
    "    for line in lines:\n",
    "        elements = line.split(\",\")\n",
    "        hardware = elements[0]\n",
    "        embedding_index = int(elements[1])\n",
    "        horizon = int(elements[2])\n",
    "        my_guarantee = float(elements[3])\n",
    "        trad_guarantee = float(elements[4])\n",
    "        best_trad_guarantee = float(elements[6])\n",
    "        curr_lambda = all_lambdas[find_enum_object(hardware, HardwareSpec)][embedding_index][horizon]\n",
    "        if curr_lambda >= 0.999 and (best_trad_guarantee < 0.999):\n",
    "            if horizon not in counts_dicts.keys():\n",
    "                counts_dicts[horizon] = []\n",
    "            counts_dicts[horizon].append((hardware, embedding_index, best_trad_guarantee, all_lambdas[find_enum_object(hardware, HardwareSpec)][embedding_index][horizon]))\n",
    "counts_dicts"
   ]
  },
  {
   "cell_type": "code",
   "execution_count": 10,
   "id": "a1c78793",
   "metadata": {},
   "outputs": [
    {
     "name": "stdout",
     "output_type": "stream",
     "text": [
      "0.9892 0.9208\n",
      "0.9924 0.9302\n",
      "0.9912 0.9136\n",
      "0.9933333333333333 0.8533333333333334\n"
     ]
    }
   ],
   "source": [
    "target_embeddings = [(HardwareSpec.QUITO, 1), (HardwareSpec.SYDNEY, 0), (HardwareSpec.MELBOURNE, 4), (HardwareSpec.ALMADEN, 4)]\n",
    "\n",
    "embeddings = load_all_embeddings(ResetExperimentID.main, False)\n",
    "for (hardware_spec, embedding_index) in target_embeddings:\n",
    "    noise_model = NoiseModel(hardware_spec, False)\n",
    "    qubit_index = embeddings[hardware_spec][embedding_index][0]\n",
    "    instruction = Instruction(qubit_index, Op.MEAS)\n",
    "    print(noise_model.instructions_to_channel[instruction].get_ind_probability(0,0), noise_model.instructions_to_channel[instruction].get_ind_probability(1,1))\n"
   ]
  },
  {
   "cell_type": "code",
   "execution_count": 20,
   "id": "a4ed97ab",
   "metadata": {},
   "outputs": [
    {
     "name": "stdout",
     "output_type": "stream",
     "text": [
      "7 14\n",
      "6 7\n",
      "5 9\n"
     ]
    }
   ],
   "source": [
    "for (horizon, hardware_specs) in counts_dicts.items():\n",
    "    print(horizon, len(hardware_specs))"
   ]
  },
  {
   "cell_type": "code",
   "execution_count": 34,
   "id": "8aa6702f",
   "metadata": {},
   "outputs": [
    {
     "name": "stdout",
     "output_type": "stream",
     "text": [
      "fake_hanoi 0.99 0.988 0.002\n",
      "fake_auckland 0.99 0.979 0.011\n",
      "fake_geneva 0.99 0.982 0.008\n"
     ]
    }
   ],
   "source": [
    "experiment_id = GHZExperimentID.EMBED\n",
    "file_path = os.path.join(get_project_path(), get_experiment_name_path(experiment_id),\"guarantees_embed.csv\")\n",
    "f = open(file_path)\n",
    "lines = f.readlines()[1:]\n",
    "f.close()\n",
    "for line in lines:\n",
    "    elements = line.split(\",\")\n",
    "    hardware = elements[0]\n",
    "    my_guarantee = float(elements[1])\n",
    "    trad_guarantee = float(elements[2])\n",
    "    diff = float(elements[3])\n",
    "    if my_guarantee >= 0.99 and (my_guarantee != trad_guarantee):\n",
    "        print(hardware,my_guarantee, trad_guarantee, diff)\n",
    "\n"
   ]
  },
  {
   "cell_type": "markdown",
   "id": "e1b6e9a2",
   "metadata": {},
   "source": [
    "# Error in single qubit gates"
   ]
  },
  {
   "cell_type": "code",
   "execution_count": 2,
   "id": "08b87e76",
   "metadata": {},
   "outputs": [],
   "source": [
    "error_rates = []\n",
    "for hardware_spec in HardwareSpec:\n",
    "    noise_model = NoiseModel(hardware_spec, thermal_relaxation=False)\n",
    "    \n",
    "    for (instruction, channel) in noise_model.instructions_to_channel.items():\n",
    "        assert isinstance(instruction, Instruction)\n",
    "        \n",
    "        if (not is_multiqubit_gate(instruction.op)):\n",
    "            if  not instruction.is_meas_instruction():\n",
    "                assert isinstance(channel, QuantumChannel)\n",
    "                error_rates.append(channel.estimated_success_prob)\n",
    "                \n",
    "df = pd.DataFrame.from_dict({\n",
    "            'error_rates': error_rates,\n",
    "        }) "
   ]
  },
  {
   "cell_type": "code",
   "execution_count": 3,
   "id": "42c0c99e",
   "metadata": {},
   "outputs": [
    {
     "data": {
      "text/html": [
       "<div>\n",
       "<style scoped>\n",
       "    .dataframe tbody tr th:only-of-type {\n",
       "        vertical-align: middle;\n",
       "    }\n",
       "\n",
       "    .dataframe tbody tr th {\n",
       "        vertical-align: top;\n",
       "    }\n",
       "\n",
       "    .dataframe thead th {\n",
       "        text-align: right;\n",
       "    }\n",
       "</style>\n",
       "<table border=\"1\" class=\"dataframe\">\n",
       "  <thead>\n",
       "    <tr style=\"text-align: right;\">\n",
       "      <th></th>\n",
       "      <th>error_rates</th>\n",
       "    </tr>\n",
       "  </thead>\n",
       "  <tbody>\n",
       "    <tr>\n",
       "      <th>count</th>\n",
       "      <td>4232.000000</td>\n",
       "    </tr>\n",
       "    <tr>\n",
       "      <th>mean</th>\n",
       "      <td>0.999150</td>\n",
       "    </tr>\n",
       "    <tr>\n",
       "      <th>std</th>\n",
       "      <td>0.002319</td>\n",
       "    </tr>\n",
       "    <tr>\n",
       "      <th>min</th>\n",
       "      <td>0.959810</td>\n",
       "    </tr>\n",
       "    <tr>\n",
       "      <th>25%</th>\n",
       "      <td>0.999291</td>\n",
       "    </tr>\n",
       "    <tr>\n",
       "      <th>50%</th>\n",
       "      <td>0.999659</td>\n",
       "    </tr>\n",
       "    <tr>\n",
       "      <th>75%</th>\n",
       "      <td>1.000000</td>\n",
       "    </tr>\n",
       "    <tr>\n",
       "      <th>max</th>\n",
       "      <td>1.000000</td>\n",
       "    </tr>\n",
       "  </tbody>\n",
       "</table>\n",
       "</div>"
      ],
      "text/plain": [
       "       error_rates\n",
       "count  4232.000000\n",
       "mean      0.999150\n",
       "std       0.002319\n",
       "min       0.959810\n",
       "25%       0.999291\n",
       "50%       0.999659\n",
       "75%       1.000000\n",
       "max       1.000000"
      ]
     },
     "execution_count": 3,
     "metadata": {},
     "output_type": "execute_result"
    }
   ],
   "source": [
    "df.describe()"
   ]
  }
 ],
 "metadata": {
  "kernelspec": {
   "display_name": ".env",
   "language": "python",
   "name": "python3"
  },
  "language_info": {
   "codemirror_mode": {
    "name": "ipython",
    "version": 3
   },
   "file_extension": ".py",
   "mimetype": "text/x-python",
   "name": "python",
   "nbconvert_exporter": "python",
   "pygments_lexer": "ipython3",
   "version": "3.10.13"
  }
 },
 "nbformat": 4,
 "nbformat_minor": 5
}
