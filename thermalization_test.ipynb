{
 "cells": [
  {
   "cell_type": "code",
   "execution_count": 1,
   "id": "21136bf2",
   "metadata": {},
   "outputs": [],
   "source": [
    "from ibm_noise_models import *\n",
    "from problems.bitflip import *"
   ]
  },
  {
   "cell_type": "code",
   "execution_count": 2,
   "id": "22565d82",
   "metadata": {},
   "outputs": [],
   "source": [
    "Precision.PRECISION = 8\n",
    "Precision.update_threshold()"
   ]
  },
  {
   "cell_type": "code",
   "execution_count": 3,
   "id": "8f576def",
   "metadata": {},
   "outputs": [],
   "source": [
    "noise_model = NoiseModel(HardwareSpec.PERTH, thermal_relaxation=True)"
   ]
  },
  {
   "cell_type": "code",
   "execution_count": 4,
   "id": "e5efc26a",
   "metadata": {},
   "outputs": [
    {
     "ename": "AssertionError",
     "evalue": "",
     "output_type": "error",
     "traceback": [
      "\u001b[0;31m---------------------------------------------------------------------------\u001b[0m",
      "\u001b[0;31mAssertionError\u001b[0m                            Traceback (most recent call last)",
      "Cell \u001b[0;32mIn[4], line 12\u001b[0m\n\u001b[1;32m     10\u001b[0m \u001b[38;5;28;01mfor\u001b[39;00m initial_state \u001b[38;5;129;01min\u001b[39;00m problem_instance\u001b[38;5;241m.\u001b[39minitial_state:\n\u001b[1;32m     11\u001b[0m     initial_distribution\u001b[38;5;241m.\u001b[39mappend((initial_state, \u001b[38;5;241m0.25\u001b[39m))\n\u001b[0;32m---> 12\u001b[0m \u001b[43mbuild_pomdp\u001b[49m\u001b[43m(\u001b[49m\u001b[43mactions\u001b[49m\u001b[43m,\u001b[49m\u001b[43m \u001b[49m\u001b[43mnoise_model\u001b[49m\u001b[43m,\u001b[49m\u001b[43m \u001b[49m\u001b[38;5;241;43m5\u001b[39;49m\u001b[43m,\u001b[49m\u001b[43m \u001b[49m\u001b[43membedding\u001b[49m\u001b[43m,\u001b[49m\u001b[43m \u001b[49m\u001b[43minitial_distribution\u001b[49m\u001b[38;5;241;43m=\u001b[39;49m\u001b[43minitial_distribution\u001b[49m\u001b[43m,\u001b[49m\u001b[43m \u001b[49m\u001b[43mguard\u001b[49m\u001b[38;5;241;43m=\u001b[39;49m\u001b[43mbitflips_guard\u001b[49m\u001b[43m)\u001b[49m\n",
      "File \u001b[0;32m~/Documents/ist/algorithm_synthesis/pomdp.py:459\u001b[0m, in \u001b[0;36mbuild_pomdp\u001b[0;34m(actions, noise_model, horizon, embedding, initial_state, initial_distribution, guard, qubits_used)\u001b[0m\n\u001b[1;32m    456\u001b[0m \u001b[38;5;28;01massert\u001b[39;00m action\u001b[38;5;241m.\u001b[39mname \u001b[38;5;129;01mnot\u001b[39;00m \u001b[38;5;129;01min\u001b[39;00m graph[current_v]\u001b[38;5;241m.\u001b[39mkeys()\n\u001b[1;32m    457\u001b[0m graph[current_v][action\u001b[38;5;241m.\u001b[39mname] \u001b[38;5;241m=\u001b[39m \u001b[38;5;28mdict\u001b[39m()\n\u001b[0;32m--> 459\u001b[0m successors \u001b[38;5;241m=\u001b[39m \u001b[43maction\u001b[49m\u001b[38;5;241;43m.\u001b[39;49m\u001b[43mget_successor_states\u001b[49m\u001b[43m(\u001b[49m\u001b[43mnoise_model\u001b[49m\u001b[43m,\u001b[49m\u001b[43m \u001b[49m\u001b[43mcurrent_v\u001b[49m\u001b[43m)\u001b[49m\n\u001b[1;32m    460\u001b[0m \u001b[38;5;28;01massert\u001b[39;00m \u001b[38;5;28mlen\u001b[39m(successors) \u001b[38;5;241m>\u001b[39m \u001b[38;5;241m0\u001b[39m\n\u001b[1;32m    461\u001b[0m \u001b[38;5;28;01mfor\u001b[39;00m (succ, prob) \u001b[38;5;129;01min\u001b[39;00m successors\u001b[38;5;241m.\u001b[39mitems():\n",
      "File \u001b[0;32m~/Documents/ist/algorithm_synthesis/pomdp.py:223\u001b[0m, in \u001b[0;36mPOMDPAction.get_successor_states\u001b[0;34m(self, noise_model, current_vertex)\u001b[0m\n\u001b[1;32m    222\u001b[0m \u001b[38;5;28;01mdef\u001b[39;00m \u001b[38;5;21mget_successor_states\u001b[39m(\u001b[38;5;28mself\u001b[39m, noise_model: NoiseModel, current_vertex: POMDPVertex) \u001b[38;5;241m-\u001b[39m\u001b[38;5;241m>\u001b[39m Dict[POMDPVertex, \u001b[38;5;28mfloat\u001b[39m]:\n\u001b[0;32m--> 223\u001b[0m     \u001b[38;5;28;01mreturn\u001b[39;00m \u001b[38;5;28;43mself\u001b[39;49m\u001b[38;5;241;43m.\u001b[39;49m\u001b[43m__dfs\u001b[49m\u001b[43m(\u001b[49m\u001b[43mnoise_model\u001b[49m\u001b[43m,\u001b[49m\u001b[43m \u001b[49m\u001b[43mcurrent_vertex\u001b[49m\u001b[43m,\u001b[49m\u001b[43m \u001b[49m\u001b[38;5;241;43m0\u001b[39;49m\u001b[43m)\u001b[49m\n",
      "File \u001b[0;32m~/Documents/ist/algorithm_synthesis/pomdp.py:205\u001b[0m, in \u001b[0;36mPOMDPAction.__dfs\u001b[0;34m(self, noise_model, current_vertex, index_ins)\u001b[0m\n\u001b[1;32m    203\u001b[0m         \u001b[38;5;28mself\u001b[39m\u001b[38;5;241m.\u001b[39m__handle_reset_instruction(current_instruction, instruction_channel, current_vertex, is_meas1\u001b[38;5;241m=\u001b[39m\u001b[38;5;28;01mTrue\u001b[39;00m, result\u001b[38;5;241m=\u001b[39mtemp_result)\n\u001b[1;32m    204\u001b[0m     \u001b[38;5;28;01melse\u001b[39;00m:\n\u001b[0;32m--> 205\u001b[0m         \u001b[38;5;28;43mself\u001b[39;49m\u001b[38;5;241;43m.\u001b[39;49m\u001b[43m__handle_unitary_instruction\u001b[49m\u001b[43m(\u001b[49m\u001b[43mcurrent_instruction\u001b[49m\u001b[43m,\u001b[49m\u001b[43m \u001b[49m\u001b[43minstruction_channel\u001b[49m\u001b[43m,\u001b[49m\u001b[43m \u001b[49m\u001b[43mcurrent_vertex\u001b[49m\u001b[43m,\u001b[49m\u001b[43m \u001b[49m\u001b[43mresult\u001b[49m\u001b[38;5;241;43m=\u001b[39;49m\u001b[43mtemp_result\u001b[49m\u001b[43m)\u001b[49m\n\u001b[1;32m    207\u001b[0m result \u001b[38;5;241m=\u001b[39m \u001b[38;5;28mdict\u001b[39m()\n\u001b[1;32m    208\u001b[0m \u001b[38;5;28;01mfor\u001b[39;00m (successor, prob) \u001b[38;5;129;01min\u001b[39;00m temp_result\u001b[38;5;241m.\u001b[39mitems():\n",
      "File \u001b[0;32m~/Documents/ist/algorithm_synthesis/pomdp.py:136\u001b[0m, in \u001b[0;36mPOMDPAction.__handle_unitary_instruction\u001b[0;34m(self, instruction, channel, vertex, result)\u001b[0m\n\u001b[1;32m    134\u001b[0m \u001b[38;5;28;01mfor\u001b[39;00m (index, err_seq) \u001b[38;5;129;01min\u001b[39;00m \u001b[38;5;28menumerate\u001b[39m(channel\u001b[38;5;241m.\u001b[39merrors): \n\u001b[1;32m    135\u001b[0m     new_qs \u001b[38;5;241m=\u001b[39m handle_write(vertex\u001b[38;5;241m.\u001b[39mquantum_state, instruction\u001b[38;5;241m.\u001b[39mget_gate_data())\n\u001b[0;32m--> 136\u001b[0m     errored_seq, seq_prob \u001b[38;5;241m=\u001b[39m \u001b[43mget_seq_probability\u001b[49m\u001b[43m(\u001b[49m\u001b[43mnew_qs\u001b[49m\u001b[43m,\u001b[49m\u001b[43m \u001b[49m\u001b[43merr_seq\u001b[49m\u001b[43m)\u001b[49m\n\u001b[1;32m    137\u001b[0m     \u001b[38;5;28;01mif\u001b[39;00m seq_prob \u001b[38;5;241m>\u001b[39m \u001b[38;5;241m0.0\u001b[39m:\n\u001b[1;32m    138\u001b[0m         new_vertex \u001b[38;5;241m=\u001b[39m POMDPVertex(errored_seq, vertex\u001b[38;5;241m.\u001b[39mclassical_state)\n",
      "File \u001b[0;32m~/Documents/ist/algorithm_synthesis/qmemory.py:256\u001b[0m, in \u001b[0;36mget_seq_probability\u001b[0;34m(quantum_state, seq, is_floor)\u001b[0m\n\u001b[1;32m    254\u001b[0m count_meas \u001b[38;5;241m=\u001b[39m \u001b[38;5;241m0\u001b[39m\n\u001b[1;32m    255\u001b[0m \u001b[38;5;28;01mfor\u001b[39;00m s \u001b[38;5;129;01min\u001b[39;00m seq:\n\u001b[0;32m--> 256\u001b[0m     \u001b[38;5;28;01massert\u001b[39;00m \u001b[38;5;28misinstance\u001b[39m(s, GateData)\n\u001b[1;32m    257\u001b[0m     \u001b[38;5;28;01massert\u001b[39;00m s\u001b[38;5;241m.\u001b[39mlabel \u001b[38;5;241m!=\u001b[39m Op\u001b[38;5;241m.\u001b[39mMEAS\n\u001b[1;32m    258\u001b[0m     \u001b[38;5;28;01mif\u001b[39;00m s\u001b[38;5;241m.\u001b[39mlabel \u001b[38;5;241m==\u001b[39m Op\u001b[38;5;241m.\u001b[39mP0 \u001b[38;5;129;01mor\u001b[39;00m s\u001b[38;5;241m.\u001b[39mlabel \u001b[38;5;241m==\u001b[39m Op\u001b[38;5;241m.\u001b[39mP1:\n",
      "\u001b[0;31mAssertionError\u001b[0m: "
     ]
    }
   ],
   "source": [
    "from pomdp import build_pomdp\n",
    "\n",
    "embedding = {0: 3, 1: 2, 2: 1}\n",
    "experiment_id = BitflipExperimentID.IPMA2\n",
    "actions = get_experiments_actions(noise_model, embedding=embedding, experiment_id=experiment_id)\n",
    "\n",
    "problem_instance = BitFlipInstance(embedding)\n",
    "\n",
    "initial_distribution = []\n",
    "for initial_state in problem_instance.initial_state:\n",
    "    initial_distribution.append((initial_state, 0.25))\n",
    "build_pomdp(actions, noise_model, 5, embedding, initial_distribution=initial_distribution, guard=bitflips_guard)"
   ]
  }
 ],
 "metadata": {
  "kernelspec": {
   "display_name": ".env",
   "language": "python",
   "name": "python3"
  },
  "language_info": {
   "codemirror_mode": {
    "name": "ipython",
    "version": 3
   },
   "file_extension": ".py",
   "mimetype": "text/x-python",
   "name": "python",
   "nbconvert_exporter": "python",
   "pygments_lexer": "ipython3",
   "version": "3.10.13"
  }
 },
 "nbformat": 4,
 "nbformat_minor": 5
}
