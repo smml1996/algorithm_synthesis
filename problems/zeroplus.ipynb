{
 "cells": [
  {
   "cell_type": "code",
   "execution_count": 1,
   "id": "267b1bac",
   "metadata": {},
   "outputs": [],
   "source": [
    "from zero_plus import *\n",
    "from experiments_utils import generate_pomdp\n",
    "from ibm_noise_models import load_config_file"
   ]
  },
  {
   "cell_type": "code",
   "execution_count": 2,
   "id": "e0d7b2be",
   "metadata": {},
   "outputs": [],
   "source": [
    "Precision.PRECISION = MAX_PRECISION\n",
    "Precision.update_threshold()\n",
    "settings = get_project_settings()\n",
    "experiment_id = ZeroPlusExperimentID.TWOQ\n",
    "backend = HardwareSpec.JOHANNESBURG"
   ]
  },
  {
   "cell_type": "code",
   "execution_count": 3,
   "id": "a7f568b2",
   "metadata": {},
   "outputs": [
    {
     "data": {
      "text/plain": [
       "{'name': 'B20',\n",
       " 'experiment_id': <ZeroPlusExperimentID.TWOQ: 'twoq'>,\n",
       " 'min_horizon': 2,\n",
       " 'max_horizon': 7,\n",
       " 'output_dir': 'results/zeroplus/twoq/B20/',\n",
       " 'algorithms_file': '',\n",
       " 'hardware': ['fake_johannesburg',\n",
       "  'fake_almaden',\n",
       "  'fake_boeblingen',\n",
       "  'fake_poughkeepsie',\n",
       "  'fake_singapore',\n",
       "  'fake_tokyo'],\n",
       " 'opt_technique': 'max',\n",
       " 'verbose': 0,\n",
       " 'reps': 0}"
      ]
     },
     "execution_count": 3,
     "metadata": {},
     "output_type": "execute_result"
    }
   ],
   "source": [
    "\n",
    "\n",
    "\n",
    "\n",
    "config_path = get_config_path(experiment_id, \"B20\")\n",
    "config = load_config_file(config_path, type(experiment_id))\n",
    "config"
   ]
  },
  {
   "cell_type": "code",
   "execution_count": 4,
   "id": "50e911d2",
   "metadata": {},
   "outputs": [
    {
     "data": {
      "text/plain": [
       "{0: 4, 1: 9, 2: 0, 3: 1}"
      ]
     },
     "execution_count": 4,
     "metadata": {},
     "output_type": "execute_result"
    }
   ],
   "source": [
    "all_embeddings = load_embeddings(config=config)\n",
    "m = all_embeddings[HardwareSpec.JOHANNESBURG]['embeddings'][8]\n",
    "m"
   ]
  },
  {
   "cell_type": "code",
   "execution_count": 5,
   "id": "cf5ab3fb",
   "metadata": {},
   "outputs": [],
   "source": [
    "instance = ZeroPlusInstance(m, experiment_id)"
   ]
  },
  {
   "cell_type": "code",
   "execution_count": 6,
   "id": "07177c5f",
   "metadata": {},
   "outputs": [],
   "source": [
    "\n",
    "\n",
    "pomdp = generate_pomdp(experiment_id, backend, m, f\"temp.txt\", get_experiments_actions, ZeroPlusInstance, config[\"max_horizon\"], guard=halt_guard, WITH_THERMALIZATION=WITH_THERMALIZATION, optimize_graph=True)\n",
    "\n"
   ]
  },
  {
   "cell_type": "code",
   "execution_count": 7,
   "id": "de228f49",
   "metadata": {},
   "outputs": [
    {
     "ename": "AttributeError",
     "evalue": "'float' object has no attribute 'print_graph'",
     "output_type": "error",
     "traceback": [
      "\u001b[0;31m---------------------------------------------------------------------------\u001b[0m",
      "\u001b[0;31mAttributeError\u001b[0m                            Traceback (most recent call last)",
      "Cell \u001b[0;32mIn[7], line 1\u001b[0m\n\u001b[0;32m----> 1\u001b[0m \u001b[43mpomdp\u001b[49m\u001b[38;5;241;43m.\u001b[39;49m\u001b[43mprint_graph\u001b[49m()\n",
      "\u001b[0;31mAttributeError\u001b[0m: 'float' object has no attribute 'print_graph'"
     ]
    }
   ],
   "source": [
    "pomdp.print_graph()"
   ]
  }
 ],
 "metadata": {
  "kernelspec": {
   "display_name": ".env",
   "language": "python",
   "name": "python3"
  },
  "language_info": {
   "codemirror_mode": {
    "name": "ipython",
    "version": 3
   },
   "file_extension": ".py",
   "mimetype": "text/x-python",
   "name": "python",
   "nbconvert_exporter": "python",
   "pygments_lexer": "ipython3",
   "version": "3.10.13"
  }
 },
 "nbformat": 4,
 "nbformat_minor": 5
}
