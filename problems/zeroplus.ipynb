{
 "cells": [
  {
   "cell_type": "code",
   "execution_count": 1,
   "id": "267b1bac",
   "metadata": {},
   "outputs": [],
   "source": [
    "from zero_plus import *\n",
    "from experiments_utils import generate_pomdp\n",
    "from ibm_noise_models import load_config_file\n",
    "from state_discrimination import *"
   ]
  },
  {
   "cell_type": "code",
   "execution_count": 2,
   "id": "7672cb5c",
   "metadata": {},
   "outputs": [],
   "source": [
    "Precision.PRECISION = MAX_PRECISION\n",
    "Precision.update_threshold()"
   ]
  },
  {
   "cell_type": "code",
   "execution_count": 3,
   "id": "5253f9c4",
   "metadata": {},
   "outputs": [],
   "source": [
    "\n",
    "H0 = Instruction(0, Op.H).get_gate_data()\n",
    "zero = QuantumState(0, qubits_used=[0])\n",
    "plus = qmemory.handle_write(zero, H0)\n"
   ]
  },
  {
   "cell_type": "code",
   "execution_count": 4,
   "id": "11e6a6e0",
   "metadata": {},
   "outputs": [
    {
     "data": {
      "text/plain": [
       "(0.8535533905932737+0j)"
      ]
     },
     "execution_count": 4,
     "metadata": {},
     "output_type": "execute_result"
    }
   ],
   "source": [
    "get_success_prob(0.5, 0.5, zero, plus)"
   ]
  },
  {
   "cell_type": "code",
   "execution_count": 6,
   "id": "50763b67",
   "metadata": {},
   "outputs": [
    {
     "name": "stdout",
     "output_type": "stream",
     "text": [
      "[ 0.35355339+0.j -0.35355339+0.j]\n",
      "[[ 0.92387953+0.j  0.38268343+0.j]\n",
      " [-0.38268343-0.j  0.92387953+0.j]]\n"
     ]
    }
   ],
   "source": [
    "U = get_optimal_rotation(0.5, 0.5, zero, plus)"
   ]
  },
  {
   "cell_type": "code",
   "execution_count": 9,
   "id": "ab52b5a2",
   "metadata": {},
   "outputs": [
    {
     "name": "stdout",
     "output_type": "stream",
     "text": [
      "(0.9238795325112867+0j)\n"
     ]
    },
    {
     "data": {
      "text/plain": [
       "(0.7853981633974484+0j)"
      ]
     },
     "execution_count": 9,
     "metadata": {},
     "output_type": "execute_result"
    }
   ],
   "source": [
    "print(U[0,0])\n",
    "2*np.arccos(U[0,0])"
   ]
  },
  {
   "cell_type": "code",
   "execution_count": 10,
   "id": "2cf2f5da",
   "metadata": {},
   "outputs": [
    {
     "data": {
      "text/plain": [
       "(0.7853981633974485+0j)"
      ]
     },
     "execution_count": 10,
     "metadata": {},
     "output_type": "execute_result"
    }
   ],
   "source": [
    "2*np.arcsin(-U[0,1])"
   ]
  },
  {
   "cell_type": "code",
   "execution_count": 13,
   "id": "171d8334",
   "metadata": {},
   "outputs": [
    {
     "data": {
      "text/plain": [
       "0.7853981633974483"
      ]
     },
     "execution_count": 13,
     "metadata": {},
     "output_type": "execute_result"
    }
   ],
   "source": [
    "pi/4"
   ]
  },
  {
   "cell_type": "code",
   "execution_count": 16,
   "id": "5b2f7206",
   "metadata": {},
   "outputs": [
    {
     "data": {
      "text/plain": [
       "0.39269908169872414"
      ]
     },
     "execution_count": 16,
     "metadata": {},
     "output_type": "execute_result"
    }
   ],
   "source": [
    "pi/8"
   ]
  },
  {
   "cell_type": "code",
   "execution_count": null,
   "id": "513cd817",
   "metadata": {},
   "outputs": [
    {
     "data": {
      "text/plain": [
       "0.8726646259971648"
      ]
     },
     "execution_count": 15,
     "metadata": {},
     "output_type": "execute_result"
    }
   ],
   "source": [
    "np.radians(5)"
   ]
  }
 ],
 "metadata": {
  "kernelspec": {
   "display_name": ".env",
   "language": "python",
   "name": "python3"
  },
  "language_info": {
   "codemirror_mode": {
    "name": "ipython",
    "version": 3
   },
   "file_extension": ".py",
   "mimetype": "text/x-python",
   "name": "python",
   "nbconvert_exporter": "python",
   "pygments_lexer": "ipython3",
   "version": "3.10.13"
  }
 },
 "nbformat": 4,
 "nbformat_minor": 5
}
