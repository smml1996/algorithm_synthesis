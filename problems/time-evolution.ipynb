{
 "cells": [
  {
   "cell_type": "code",
   "execution_count": 1,
   "metadata": {},
   "outputs": [],
   "source": [
    "from h2_molecule import *\n",
    "Precision.PRECISION = 5\n",
    "Precision.update_threshold()\n",
    "\n",
    "import pandas as pd\n",
    "import seaborn as sns"
   ]
  },
  {
   "cell_type": "code",
   "execution_count": 2,
   "id": "39336105",
   "metadata": {},
   "outputs": [],
   "source": [
    "# pauli matrices\n",
    "I = np.array([[1, 0], [0, 1]])\n",
    "\n",
    "X = np.array([[0, 1], [1, 0]])\n",
    "\n",
    "Z = np.array([[1,0], [0,-1]])\n",
    "\n",
    "Y = np.array([[0, complex(0, -1)], [complex(0, 1), 0]])"
   ]
  },
  {
   "cell_type": "code",
   "execution_count": 3,
   "id": "78aeb097",
   "metadata": {},
   "outputs": [],
   "source": [
    "problem_instance = H2MoleculeInstance({0:0}, H2ExperimentID.P0_CliffordT)\n",
    "initial_state = problem_instance.initial_state[0].to_np_array()"
   ]
  },
  {
   "cell_type": "code",
   "execution_count": 4,
   "id": "621a0a0b",
   "metadata": {},
   "outputs": [],
   "source": [
    "H = get_hamiltonian(H2ExperimentID.P0_CliffordT)"
   ]
  },
  {
   "cell_type": "code",
   "execution_count": 5,
   "id": "81e6ec37",
   "metadata": {},
   "outputs": [
    {
     "data": {
      "text/plain": [
       "array([[-1.82172106+0.j,  0.18177154+0.j],\n",
       "       [ 0.18177154+0.j, -0.26673071+0.j]])"
      ]
     },
     "execution_count": 5,
     "metadata": {},
     "output_type": "execute_result"
    }
   ],
   "source": [
    "H.to_matrix()"
   ]
  },
  {
   "cell_type": "code",
   "execution_count": 15,
   "id": "3c57c842",
   "metadata": {},
   "outputs": [
    {
     "data": {
      "text/plain": [
       "array([0.5+0.5j, 0.5-0.5j])"
      ]
     },
     "execution_count": 15,
     "metadata": {},
     "output_type": "execute_result"
    }
   ],
   "source": [
    "times = []\n",
    "energies = []\n",
    "for t in range(0, 14):\n",
    "    times.append(t)\n",
    "    state_t = schroedinger_equation(X, complex(0, -t), np.array([1/np.sqrt(2),1/np.sqrt(2)]))\n",
    "    energies.append(get_energy(X, state_t))\n",
    "    \n",
    "state_t"
   ]
  },
  {
   "cell_type": "code",
   "execution_count": 3,
   "id": "341b7ac6",
   "metadata": {},
   "outputs": [],
   "source": [
    "eigenvalues, eigenvectors = np.linalg.eigh(X)"
   ]
  },
  {
   "cell_type": "code",
   "execution_count": 4,
   "id": "94c92395",
   "metadata": {},
   "outputs": [
    {
     "data": {
      "text/plain": [
       "array([-1.,  1.])"
      ]
     },
     "execution_count": 4,
     "metadata": {},
     "output_type": "execute_result"
    }
   ],
   "source": [
    "eigenvalues"
   ]
  },
  {
   "cell_type": "code",
   "execution_count": 5,
   "id": "8091841d",
   "metadata": {},
   "outputs": [
    {
     "data": {
      "text/plain": [
       "array([[-0.70710678+0.j        , -0.70710678+0.j        ],\n",
       "       [ 0.        +0.70710678j,  0.        -0.70710678j]])"
      ]
     },
     "execution_count": 5,
     "metadata": {},
     "output_type": "execute_result"
    }
   ],
   "source": [
    "eigenvectors"
   ]
  },
  {
   "cell_type": "code",
   "execution_count": 6,
   "id": "aa8d6bd8",
   "metadata": {},
   "outputs": [
    {
     "name": "stdout",
     "output_type": "stream",
     "text": [
      "[-0.70710678+0.j -0.70710678+0.j]\n",
      "after normalization: [-0.70710678+0.j -0.70710678+0.j]\n",
      "q_dagger [-0.70710678-0.j -0.70710678-0.j]\n",
      "H_q [0.+0.70710678j 0.-0.70710678j]\n",
      "expectation value -4.266421588589642e-17j\n"
     ]
    },
    {
     "data": {
      "text/plain": [
       "0.0"
      ]
     },
     "execution_count": 6,
     "metadata": {},
     "output_type": "execute_result"
    }
   ],
   "source": [
    "get_energy(X, eigenvectors[0])"
   ]
  },
  {
   "cell_type": "code",
   "execution_count": 13,
   "id": "ce4d99e3",
   "metadata": {},
   "outputs": [
    {
     "data": {
      "text/plain": [
       "0.2500000000188757"
      ]
     },
     "execution_count": 13,
     "metadata": {},
     "output_type": "execute_result"
    }
   ],
   "source": [
    "get_fidelity(eigenvectors[0], state_t)"
   ]
  },
  {
   "cell_type": "code",
   "execution_count": null,
   "id": "534a2b9d",
   "metadata": {},
   "outputs": [],
   "source": []
  }
 ],
 "metadata": {
  "kernelspec": {
   "display_name": ".env",
   "language": "python",
   "name": "python3"
  },
  "language_info": {
   "codemirror_mode": {
    "name": "ipython",
    "version": 3
   },
   "file_extension": ".py",
   "mimetype": "text/x-python",
   "name": "python",
   "nbconvert_exporter": "python",
   "pygments_lexer": "ipython3",
   "version": "3.10.13"
  }
 },
 "nbformat": 4,
 "nbformat_minor": 5
}
