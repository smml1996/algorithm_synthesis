{
 "cells": [
  {
   "cell_type": "code",
   "execution_count": 1,
   "metadata": {},
   "outputs": [],
   "source": [
    "from h2_molecule import *\n",
    "Precision.PRECISION = 5\n",
    "Precision.update_threshold()\n",
    "\n",
    "import pandas as pd\n",
    "import seaborn as sns"
   ]
  },
  {
   "cell_type": "code",
   "execution_count": 2,
   "id": "78aeb097",
   "metadata": {},
   "outputs": [],
   "source": [
    "problem_instance = H2MoleculeInstance({0:0}, H2ExperimentID.P0_CliffordT)\n",
    "initial_state = problem_instance.initial_state[0].to_np_array()"
   ]
  },
  {
   "cell_type": "code",
   "execution_count": 17,
   "id": "621a0a0b",
   "metadata": {},
   "outputs": [],
   "source": [
    "H = get_hamiltonian(H2ExperimentID.P0_CliffordT)"
   ]
  },
  {
   "cell_type": "code",
   "execution_count": null,
   "id": "f0a4095f",
   "metadata": {},
   "outputs": [],
   "source": []
  },
  {
   "cell_type": "code",
   "execution_count": 27,
   "id": "11c10d1e",
   "metadata": {},
   "outputs": [
    {
     "data": {
      "text/plain": [
       "array([[-1.82172106+0.j,  0.18177154+0.j],\n",
       "       [ 0.18177154+0.j, -0.26673071+0.j]])"
      ]
     },
     "execution_count": 27,
     "metadata": {},
     "output_type": "execute_result"
    }
   ],
   "source": [
    "H.to_matrix()"
   ]
  },
  {
   "cell_type": "code",
   "execution_count": 26,
   "id": "3c57c842",
   "metadata": {},
   "outputs": [
    {
     "data": {
      "text/plain": [
       "array([ 0.99341393+0.j, -0.11458085+0.j])"
      ]
     },
     "execution_count": 26,
     "metadata": {},
     "output_type": "execute_result"
    }
   ],
   "source": [
    "times = []\n",
    "energies = []\n",
    "for t in range(0, 14):\n",
    "    times.append(t)\n",
    "    state_t = schroedinger_equation(H, complex(0, -t), initial_state)\n",
    "    energies.append(get_energy(H, state_t))\n",
    "    \n",
    "state_t"
   ]
  },
  {
   "cell_type": "code",
   "execution_count": 20,
   "id": "d3f98a33",
   "metadata": {},
   "outputs": [
    {
     "data": {
      "text/plain": [
       "[-1.8217210634986007,\n",
       " -1.8418158349798708,\n",
       " -1.8426509463505343,\n",
       " -1.8426852162182255,\n",
       " -1.8426866217920521,\n",
       " -1.8426866794402308,\n",
       " -1.8426866818046106,\n",
       " -1.8426866819015824,\n",
       " -1.8426866819055598,\n",
       " -1.8426866819057228,\n",
       " -1.84268668190573,\n",
       " -1.8426866819057306,\n",
       " -1.8426866819057304,\n",
       " -1.84268668190573]"
      ]
     },
     "execution_count": 20,
     "metadata": {},
     "output_type": "execute_result"
    }
   ],
   "source": [
    "energies"
   ]
  },
  {
   "cell_type": "code",
   "execution_count": 28,
   "id": "68f6a0c6",
   "metadata": {},
   "outputs": [
    {
     "data": {
      "text/plain": [
       "array([-1.84268668+0.j, -0.24576509+0.j])"
      ]
     },
     "execution_count": 28,
     "metadata": {},
     "output_type": "execute_result"
    }
   ],
   "source": [
    "eigvals, eigvecs = np.linalg.eig(H)\n"
   ]
  },
  {
   "cell_type": "code",
   "execution_count": 29,
   "id": "9f78c35a",
   "metadata": {},
   "outputs": [
    {
     "data": {
      "text/plain": [
       "array([[ 0.99341393+0.j,  0.11458085+0.j],\n",
       "       [-0.11458085-0.j,  0.99341393+0.j]])"
      ]
     },
     "execution_count": 29,
     "metadata": {},
     "output_type": "execute_result"
    }
   ],
   "source": [
    "eigvecs"
   ]
  },
  {
   "cell_type": "code",
   "execution_count": 21,
   "id": "341b7ac6",
   "metadata": {},
   "outputs": [],
   "source": [
    "eigenvalues, eigenvectors = np.linalg.eig(H)"
   ]
  },
  {
   "cell_type": "code",
   "execution_count": 23,
   "id": "d6f48844",
   "metadata": {},
   "outputs": [
    {
     "data": {
      "text/plain": [
       "array([-1.84268668+0.j, -0.24576509+0.j])"
      ]
     },
     "execution_count": 23,
     "metadata": {},
     "output_type": "execute_result"
    }
   ],
   "source": [
    "eigenvalues"
   ]
  },
  {
   "cell_type": "code",
   "execution_count": 22,
   "id": "8091841d",
   "metadata": {},
   "outputs": [
    {
     "data": {
      "text/plain": [
       "array([[ 0.99341393+0.j,  0.11458085+0.j],\n",
       "       [-0.11458085-0.j,  0.99341393+0.j]])"
      ]
     },
     "execution_count": 22,
     "metadata": {},
     "output_type": "execute_result"
    }
   ],
   "source": [
    "eigenvectors"
   ]
  },
  {
   "cell_type": "code",
   "execution_count": 11,
   "id": "edb5a0e7",
   "metadata": {},
   "outputs": [
    {
     "data": {
      "text/plain": [
       "array([ 0.99341393+0.j, -0.11458085+0.j])"
      ]
     },
     "execution_count": 11,
     "metadata": {},
     "output_type": "execute_result"
    }
   ],
   "source": [
    "state_t"
   ]
  },
  {
   "cell_type": "code",
   "execution_count": 25,
   "id": "aa8d6bd8",
   "metadata": {},
   "outputs": [
    {
     "data": {
      "text/plain": [
       "-1.84268668190573"
      ]
     },
     "execution_count": 25,
     "metadata": {},
     "output_type": "execute_result"
    }
   ],
   "source": [
    "get_energy(H, state_t)"
   ]
  },
  {
   "cell_type": "code",
   "execution_count": 24,
   "id": "ce4d99e3",
   "metadata": {},
   "outputs": [
    {
     "data": {
      "text/plain": [
       "0.9481743732006236"
      ]
     },
     "execution_count": 24,
     "metadata": {},
     "output_type": "execute_result"
    }
   ],
   "source": [
    "get_fidelity(eigenvectors[0], state_t)"
   ]
  },
  {
   "cell_type": "code",
   "execution_count": null,
   "id": "1e4fbf75",
   "metadata": {},
   "outputs": [],
   "source": []
  }
 ],
 "metadata": {
  "kernelspec": {
   "display_name": ".env",
   "language": "python",
   "name": "python3"
  },
  "language_info": {
   "codemirror_mode": {
    "name": "ipython",
    "version": 3
   },
   "file_extension": ".py",
   "mimetype": "text/x-python",
   "name": "python",
   "nbconvert_exporter": "python",
   "pygments_lexer": "ipython3",
   "version": "3.10.13"
  }
 },
 "nbformat": 4,
 "nbformat_minor": 5
}
