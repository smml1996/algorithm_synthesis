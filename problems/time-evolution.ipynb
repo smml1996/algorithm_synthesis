{
 "cells": [
  {
   "cell_type": "code",
   "execution_count": 1,
   "metadata": {},
   "outputs": [],
   "source": [
    "from h2_molecule import *\n",
    "Precision.PRECISION = 5\n",
    "Precision.update_threshold()\n",
    "\n",
    "import pandas as pd\n",
    "import seaborn as sns"
   ]
  },
  {
   "cell_type": "code",
   "execution_count": 2,
   "id": "78aeb097",
   "metadata": {},
   "outputs": [],
   "source": [
    "problem_instance = H2MoleculeInstance({0:0}, H2ExperimentID.P0_CliffordT, 14)\n",
    "initial_state = problem_instance.initial_state[0].to_np_array()"
   ]
  },
  {
   "cell_type": "code",
   "execution_count": 3,
   "id": "621a0a0b",
   "metadata": {},
   "outputs": [
    {
     "data": {
      "text/plain": [
       "SparsePauliOp(['I', 'Z', 'X'],\n",
       "              coeffs=[-1.04422589+0.j, -0.77749518+0.j,  0.18177154+0.j])"
      ]
     },
     "execution_count": 3,
     "metadata": {},
     "output_type": "execute_result"
    }
   ],
   "source": [
    "observable = get_hamiltonian(H2ExperimentID.P0_CliffordT)\n",
    "observable"
   ]
  },
  {
   "cell_type": "code",
   "execution_count": 5,
   "id": "cac62c9f",
   "metadata": {},
   "outputs": [],
   "source": [
    "target_state = np_schroedinger_equation(observable, complex(0, -14), initial_state)\n",
    "target_energy = np_get_energy(observable, target_state)"
   ]
  },
  {
   "cell_type": "code",
   "execution_count": 6,
   "id": "f0a4095f",
   "metadata": {},
   "outputs": [
    {
     "name": "stderr",
     "output_type": "stream",
     "text": [
      "/Users/stefaniemuroyalei/Documents/algorithm_synthesis/.env/lib/python3.10/site-packages/qiskit/visualization/circuit/matplotlib.py:266: FutureWarning: The default matplotlib drawer scheme will be changed to \"iqp\" in a following release. To silence this warning, specify the current default explicitly as style=\"clifford\", or the new default as style=\"iqp\".\n",
      "  self._style, def_font_ratio = load_style(self._style)\n"
     ]
    },
    {
     "data": {
      "image/png": "[encoded data removed]",
      "text/plain": [
       "<Figure size 352.675x117.056 with 1 Axes>"
      ]
     },
     "execution_count": 6,
     "metadata": {},
     "output_type": "execute_result"
    }
   ],
   "source": [
    "from qiskit import QuantumCircuit\n",
    "from qiskit.quantum_info import SparsePauliOp\n",
    "from qiskit.circuit.library import TwoLocal\n",
    "import numpy as np\n",
    "\n",
    "theta_list = (2 * np.pi * np.random.rand(1, 8)).tolist()\n",
    "\n",
    "reference_circuit = QuantumCircuit(1)\n",
    "reference_circuit.x(0)\n",
    "\n",
    "# two local means that each layer (reps) has quantum gates that operate on at most 2 qubits\n",
    "variational_form = TwoLocal(\n",
    "    num_qubits=1,\n",
    "    rotation_blocks=[\"rz\", \"ry\"],\n",
    "    entanglement_blocks=\"cx\",\n",
    "    entanglement=\"linear\",\n",
    "    reps=0,\n",
    ")\n",
    "\n",
    "ansatz = reference_circuit.compose(variational_form)\n",
    "\n",
    "ansatz.decompose().draw('mpl')"
   ]
  },
  {
   "cell_type": "code",
   "execution_count": 18,
   "id": "ef384b07",
   "metadata": {},
   "outputs": [
    {
     "data": {
      "image/png": "[encoded data removed]",
      "text/plain": [
       "<Figure size 538.128x200.667 with 1 Axes>"
      ]
     },
     "execution_count": 18,
     "metadata": {},
     "output_type": "execute_result"
    }
   ],
   "source": [
    "from qiskit.circuit.library import EfficientSU2\n",
    "\n",
    "ansatz = EfficientSU2(2, su2_gates=[\"rx\", \"ry\"], entanglement=\"linear\", reps=1)\n",
    "ansatz.decompose().draw(\"mpl\")\n"
   ]
  },
  {
   "cell_type": "code",
   "execution_count": 32,
   "id": "1e4fbf75",
   "metadata": {},
   "outputs": [],
   "source": [
    "from qiskit.primitives import Estimator\n",
    "def cost_func_vqe(params, ansatz, hamiltonian, estimator):\n",
    "    \"\"\"Return estimate of energy from estimator\n",
    "\n",
    "    Parameters:\n",
    "        params (ndarray): Array of ansatz parameters\n",
    "        ansatz (QuantumCircuit): Parameterized ansatz circuit\n",
    "        hamiltonian (SparsePauliOp): Operator representation of Hamiltonian\n",
    "        estimator (Estimator): Estimator primitive instance\n",
    "\n",
    "    Returns:\n",
    "        float: Energy estimate\n",
    "    \"\"\"\n",
    "    assert isinstance(estimator, Estimator)\n",
    "    pub = (ansatz, hamiltonian, params)\n",
    "    cost = estimator.run([ansatz], [hamiltonian], [params]).result().values[0]\n",
    "    return cost"
   ]
  },
  {
   "cell_type": "code",
   "execution_count": 15,
   "id": "bf287aa6",
   "metadata": {},
   "outputs": [],
   "source": [
    "from qiskit.primitives import Estimator\n",
    "estimator = Estimator()"
   ]
  },
  {
   "cell_type": "code",
   "execution_count": 44,
   "id": "0e114c22",
   "metadata": {},
   "outputs": [
    {
     "data": {
      "text/plain": [
       " message: Optimization terminated successfully\n",
       " success: True\n",
       "  status: 0\n",
       "     fun: -1.8426866680567455\n",
       "       x: [ 1.000e+00  2.912e+00]\n",
       "     nit: 5\n",
       "     jac: [ 0.000e+00  1.487e-04]\n",
       "    nfev: 16\n",
       "    njev: 5"
      ]
     },
     "execution_count": 44,
     "metadata": {},
     "output_type": "execute_result"
    }
   ],
   "source": [
    "from scipy.optimize import minimize\n",
    "\n",
    "x0 = np.ones(2)\n",
    "\n",
    "result = minimize(cost_func_vqe, x0, args=(ansatz, observable, estimator), method=\"SLSQP\")\n",
    "\n",
    "result"
   ]
  },
  {
   "cell_type": "code",
   "execution_count": 41,
   "id": "5e7f8c35",
   "metadata": {},
   "outputs": [
    {
     "name": "stdout",
     "output_type": "stream",
     "text": [
      "target energy: -1.8426866819057302\n",
      "found energy: -1.8426866680567455\n"
     ]
    }
   ],
   "source": [
    "print(\"target energy:\", target_energy)\n",
    "print(\"found energy:\", result.fun)"
   ]
  },
  {
   "cell_type": "code",
   "execution_count": 60,
   "id": "dbcf0ba1",
   "metadata": {},
   "outputs": [
    {
     "name": "stdout",
     "output_type": "stream",
     "text": [
      "[-0.8718121 -0.47627311j  0.10047297+0.05488863j]\n"
     ]
    },
    {
     "name": "stderr",
     "output_type": "stream",
     "text": [
      "/var/folders/jb/g9mmpv8n62190fgx4t722rnr0000gn/T/ipykernel_75261/2458446267.py:6: DeprecationWarning: The method ``qiskit.circuit.quantumcircuit.QuantumCircuit.bind_parameters()`` is deprecated as of qiskit 0.45.0. It will be removed no earlier than 3 months after the release date. Use assign_parameters() instead\n",
      "  bound_ansatz = ansatz.bind_parameters(param_dict)\n"
     ]
    }
   ],
   "source": [
    "from qiskit import QuantumCircuit, Aer, transpile\n",
    "from qiskit.providers.aer import AerSimulator\n",
    "param_dict = dict(zip(variational_form.parameters, result.x))\n",
    "\n",
    "# Step 5: Bind the parameter values to the circuit\n",
    "bound_ansatz = ansatz.bind_parameters(param_dict)\n",
    "\n",
    "bound_ansatz.save_statevector('res', pershot=True)\n",
    "\n",
    "# Step 6: Simulate the quantum state using a statevector simulator\n",
    "simulator = AerSimulator(method='statevector')\n",
    "tqc = transpile(bound_ansatz, simulator)\n",
    "result2 = simulator.run(tqc).result()\n",
    "# Step 7: Get the quantum state as a Statevector object\n",
    "quantum_state = result2.data()['res']\n",
    "\n",
    "# Step 8: Convert the Statevector to a NumPy array\n",
    "state_as_array = np.array(quantum_state)[0]\n",
    "\n",
    "# Step 9: Print the quantum state as a NumPy array\n",
    "print(state_as_array)"
   ]
  },
  {
   "cell_type": "code",
   "execution_count": 61,
   "id": "842cc80f",
   "metadata": {},
   "outputs": [
    {
     "data": {
      "text/plain": [
       "0.7701511545491301"
      ]
     },
     "execution_count": 61,
     "metadata": {},
     "output_type": "execute_result"
    }
   ],
   "source": [
    "get_fidelity(target_state, state_as_array)"
   ]
  },
  {
   "cell_type": "code",
   "execution_count": 63,
   "id": "4bd4f8e7",
   "metadata": {},
   "outputs": [
    {
     "name": "stdout",
     "output_type": "stream",
     "text": [
      "   ┌───┐┌────────────────────┐ res \n",
      "q: ┤ X ├┤ TwoLocal(1,2.9121) ├──░──\n",
      "   └───┘└────────────────────┘  ░  \n"
     ]
    }
   ],
   "source": [
    "print(bound_ansatz)"
   ]
  },
  {
   "cell_type": "code",
   "execution_count": 65,
   "id": "d5461ad4",
   "metadata": {},
   "outputs": [
    {
     "data": {
      "text/plain": [
       "-1.8426866819057302"
      ]
     },
     "execution_count": 65,
     "metadata": {},
     "output_type": "execute_result"
    }
   ],
   "source": [
    "target_energy"
   ]
  },
  {
   "cell_type": "code",
   "execution_count": 68,
   "id": "02898af8",
   "metadata": {},
   "outputs": [
    {
     "data": {
      "text/plain": [
       "-1.842686668056745"
      ]
     },
     "execution_count": 68,
     "metadata": {},
     "output_type": "execute_result"
    }
   ],
   "source": [
    "get_energy(observable, state_as_array)"
   ]
  },
  {
   "cell_type": "code",
   "execution_count": null,
   "id": "dcf2bc10",
   "metadata": {},
   "outputs": [],
   "source": []
  }
 ],
 "metadata": {
  "kernelspec": {
   "display_name": ".env",
   "language": "python",
   "name": "python3"
  },
  "language_info": {
   "codemirror_mode": {
    "name": "ipython",
    "version": 3
   },
   "file_extension": ".py",
   "mimetype": "text/x-python",
   "name": "python",
   "nbconvert_exporter": "python",
   "pygments_lexer": "ipython3",
   "version": "3.10.13"
  }
 },
 "nbformat": 4,
 "nbformat_minor": 5
}
