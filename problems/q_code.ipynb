{
 "cells": [
  {
   "cell_type": "code",
   "execution_count": 1,
   "id": "8f876232",
   "metadata": {},
   "outputs": [],
   "source": [
    "from q_code import *\n",
    "from copy import deepcopy\n",
    "from experiments_utils import ResetExperimentID\n",
    "import reset\n",
    "Precision.PRECISION = MAX_PRECISION\n",
    "Precision.update_threshold()"
   ]
  },
  {
   "cell_type": "code",
   "execution_count": 2,
   "id": "6e53d576",
   "metadata": {},
   "outputs": [],
   "source": [
    "batch = \"B20\"\n",
    "hardware_spec = HardwareSpec.JOHANNESBURG\n",
    "noise_model = NoiseModel(hardware_spec, thermal_relaxation=False)"
   ]
  },
  {
   "cell_type": "code",
   "execution_count": 3,
   "id": "07e9ab2f",
   "metadata": {},
   "outputs": [],
   "source": [
    "embedding_index = 0\n",
    "embedding = {0: 17, 1: 15, 2: 16}"
   ]
  },
  {
   "cell_type": "code",
   "execution_count": 4,
   "id": "02a1dbec",
   "metadata": {},
   "outputs": [
    {
     "data": {
      "text/plain": [
       "{0: 17, 1: 15, 2: 16}"
      ]
     },
     "execution_count": 4,
     "metadata": {},
     "output_type": "execute_result"
    }
   ],
   "source": [
    "final_embedding = deepcopy(embedding)\n",
    "final_embedding"
   ]
  },
  {
   "cell_type": "code",
   "execution_count": 5,
   "id": "36967bd0",
   "metadata": {},
   "outputs": [],
   "source": [
    "values = sorted(final_embedding.values())\n",
    "state_vector_embedding = dict()\n",
    "for (key, value) in final_embedding.items():\n",
    "    state_vector_embedding[key] = get_index(value, values)"
   ]
  },
  {
   "cell_type": "code",
   "execution_count": 6,
   "id": "d71eeafb",
   "metadata": {},
   "outputs": [
    {
     "data": {
      "text/plain": [
       "{0: 2, 1: 0, 2: 1}"
      ]
     },
     "execution_count": 6,
     "metadata": {},
     "output_type": "execute_result"
    }
   ],
   "source": [
    "state_vector_embedding"
   ]
  },
  {
   "cell_type": "markdown",
   "id": "56e2a5ce",
   "metadata": {},
   "source": [
    "## Algorithms"
   ]
  },
  {
   "cell_type": "code",
   "execution_count": 7,
   "id": "1f25a4e4",
   "metadata": {},
   "outputs": [],
   "source": [
    "def load_algorithm(experiment_id):\n",
    "    horizon = 7\n",
    "    experiment_obj = type(experiment_id)\n",
    "    config_path = get_config_path(experiment_id, batch)\n",
    "    config = load_config_file(config_path, experiment_obj)\n",
    "    output_dir = os.path.join(get_project_path(), config[\"output_dir\"])\n",
    "    algorithms_path = os.path.join(output_dir, \"algorithms\")\n",
    "    algorithm_path = os.path.join(algorithms_path, f\"{hardware_spec.value}_{embedding_index}_{horizon}.json\")\n",
    "    if isinstance(experiment_id, ResetExperimentID):\n",
    "        local_embedding = {0:2}\n",
    "    else:\n",
    "        local_embedding = {0:0, 1:1, 2:2}\n",
    "    actions_to_instructions = get_actions_to_instructions(noise_model, local_embedding, experiment_id)\n",
    "    print(algorithm_path)\n",
    "    # load algorithm json\n",
    "    f_algorithm = open(algorithm_path)\n",
    "    algorithm = AlgorithmNode(serialized=json.load(f_algorithm), actions_to_instructions=actions_to_instructions)\n",
    "    f_algorithm.close() \n",
    "    return algorithm"
   ]
  },
  {
   "cell_type": "code",
   "execution_count": 8,
   "id": "bcbcd303",
   "metadata": {},
   "outputs": [
    {
     "name": "stdout",
     "output_type": "stream",
     "text": [
      "/Users/stefaniemuroyalei/Documents/algorithm_synthesis/results/bitflip/ipma2/B20/algorithms/fake_johannesburg_0_7.json\n",
      "/Users/stefaniemuroyalei/Documents/algorithm_synthesis/results/phaseflip/ipma/B20/algorithms/fake_johannesburg_0_7.json\n",
      "/Users/stefaniemuroyalei/Documents/algorithm_synthesis/results/reset/main/B20/algorithms/fake_johannesburg_0_7.json\n"
     ]
    }
   ],
   "source": [
    "optimal_bf = load_algorithm(BitflipExperimentID.IPMA2)\n",
    "optimal_pf = load_algorithm(PhaseflipExperimentID.IPMA)\n",
    "optimal_reset = load_algorithm(ResetExperimentID.main)"
   ]
  },
  {
   "cell_type": "code",
   "execution_count": 9,
   "id": "75d2f3ae",
   "metadata": {},
   "outputs": [],
   "source": [
    "from experiments_utils import get_default_flip_algorithm\n",
    "default_bf = get_default_flip_algorithm(noise_model, {0:0, 1:1, 2:2}, 7, BitflipExperimentID.IPMA2, bitflip.get_experiments_actions, target_qubit=None)\n",
    "default_pf = get_default_flip_algorithm(noise_model, {0:0, 1:1, 2:2}, 7, PhaseflipExperimentID.IPMA, phaseflip.get_experiments_actions, target_qubit=None)\n",
    "default_reset = get_default_flip_algorithm(noise_model, {0:2}, 7, ResetExperimentID.main, reset.get_experiments_actions, target_qubit=None)\n"
   ]
  },
  {
   "cell_type": "markdown",
   "id": "bf1fd730",
   "metadata": {},
   "source": [
    "## Computed Guarantees"
   ]
  },
  {
   "cell_type": "code",
   "execution_count": 10,
   "id": "dd0f9e69",
   "metadata": {},
   "outputs": [
    {
     "name": "stdout",
     "output_type": "stream",
     "text": [
      "embedding index 0\n",
      "/Users/stefaniemuroyalei/Documents/algorithm_synthesis/results/bitflip/ipma2/B20/pomdps/fake_johannesburg_0.txt\n",
      "/Users/stefaniemuroyalei/Documents/algorithm_synthesis/results/bitflip/ipma2/B20/temp_algorithm.json\n",
      "********\n"
     ]
    },
    {
     "data": {
      "text/plain": [
       "(0.944, 0.897)"
      ]
     },
     "execution_count": 10,
     "metadata": {},
     "output_type": "execute_result"
    }
   ],
   "source": [
    "get_guarantees(noise_model, batch, hardware_spec, embedding, BitflipExperimentID.IPMA2, 7, bitflip.get_experiments_actions, bitflip.get_hardware_embeddings)"
   ]
  },
  {
   "cell_type": "code",
   "execution_count": 11,
   "id": "8790821f",
   "metadata": {},
   "outputs": [
    {
     "name": "stdout",
     "output_type": "stream",
     "text": [
      "embedding index 0\n",
      "/Users/stefaniemuroyalei/Documents/algorithm_synthesis/results/phaseflip/ipma/B20/pomdps/fake_johannesburg_0.txt\n",
      "/Users/stefaniemuroyalei/Documents/algorithm_synthesis/results/phaseflip/ipma/B20/temp_algorithm.json\n",
      "********\n"
     ]
    },
    {
     "data": {
      "text/plain": [
       "(0.943, 0.896)"
      ]
     },
     "execution_count": 11,
     "metadata": {},
     "output_type": "execute_result"
    }
   ],
   "source": [
    "get_guarantees(noise_model, batch, hardware_spec, embedding, PhaseflipExperimentID.IPMA, 7, phaseflip.get_experiments_actions, phaseflip.get_hardware_embeddings)"
   ]
  },
  {
   "cell_type": "code",
   "execution_count": 12,
   "id": "9f95d8bb",
   "metadata": {},
   "outputs": [
    {
     "name": "stdout",
     "output_type": "stream",
     "text": [
      "embedding index 0\n",
      "/Users/stefaniemuroyalei/Documents/algorithm_synthesis/results/reset/main/B20/pomdps/fake_johannesburg_0.txt\n",
      "/Users/stefaniemuroyalei/Documents/algorithm_synthesis/results/reset/main/B20/temp_algorithm.json\n",
      "********\n"
     ]
    },
    {
     "data": {
      "text/plain": [
       "(0.977, 0.879)"
      ]
     },
     "execution_count": 12,
     "metadata": {},
     "output_type": "execute_result"
    }
   ],
   "source": [
    "get_guarantees(noise_model, batch, hardware_spec, {0: embedding[2]}, ResetExperimentID.main, 7, reset.get_experiments_actions, reset.get_hardware_embeddings)\n",
    "\n"
   ]
  },
  {
   "cell_type": "markdown",
   "id": "76df8d62",
   "metadata": {},
   "source": [
    "## Target States"
   ]
  },
  {
   "cell_type": "code",
   "execution_count": 13,
   "id": "7ce51158",
   "metadata": {},
   "outputs": [],
   "source": [
    "def is_target_qs(state_vector):        \n",
    "    qs = None\n",
    "    for (index, amp) in enumerate(state_vector):\n",
    "        if not isclose(amp, 0.0, abs_tol=Precision.isclose_abstol):\n",
    "            if qs is None:\n",
    "                qs = QuantumState(index, amp, qubits_used=list(final_embedding.keys()))\n",
    "            else:\n",
    "                assert qs.get_amplitude(index) == 0.0\n",
    "                qs.add_amplitude(index, amp) \n",
    "    remove_indices = [state_vector_embedding[x] for x in range(2, len(final_embedding.keys()))]\n",
    "    rho = qs.multi_partial_trace(remove_indices=remove_indices)\n",
    "    assert len(rho) == 4\n",
    "    assert len(rho[0]) == 4\n",
    "#     print(rho)\n",
    "    for i in range(len(rho)):\n",
    "        for j in range(len(rho)):\n",
    "            if (i == 0 and j == 0) or (i == 0 and j == 3) or (i == 3 and j == 0) or (i == 3 and j == 3):\n",
    "                if not isclose(rho[i][j], 0.5, abs_tol=Precision.isclose_abstol):\n",
    "                    return False\n",
    "            else:\n",
    "                if not isclose(rho[i][j], 0.0, abs_tol=Precision.isclose_abstol):\n",
    "                    return False\n",
    "    return True"
   ]
  },
  {
   "cell_type": "code",
   "execution_count": 14,
   "id": "52b57c57",
   "metadata": {},
   "outputs": [],
   "source": [
    "def my_code(qc, cbits):\n",
    "    execute_algorithm(optimal_bf, qc, cbits=cbits)\n",
    "    execute_algorithm(optimal_reset, qc, cbits=cbits)\n",
    "    execute_algorithm(optimal_pf, qc, cbits=cbits)"
   ]
  },
  {
   "cell_type": "code",
   "execution_count": 15,
   "id": "4f315d87",
   "metadata": {},
   "outputs": [],
   "source": [
    "def default_code(qc, cbits):\n",
    "    execute_algorithm(default_bf, qc, cbits=cbits)\n",
    "    execute_algorithm(default_reset, qc, cbits=cbits)\n",
    "    execute_algorithm(default_pf, qc, cbits=cbits)"
   ]
  },
  {
   "cell_type": "code",
   "execution_count": 30,
   "id": "ff489e8c",
   "metadata": {},
   "outputs": [],
   "source": [
    "def ibm_simulate_algorithms(is_default) -> float:   \n",
    "    num_qubits = len(final_embedding.keys())\n",
    "    ibm_noise_model = get_ibm_noise_model(hardware_spec, thermal_relaxation=False)\n",
    "    \n",
    "    accuracy = 0\n",
    "    \n",
    "    total = 0\n",
    "    \n",
    "    for qubit in [0, 1]:\n",
    "        for error in [Op.I, Op.X, Op.Z, Op.Y]:\n",
    "            initial_layout = dict()\n",
    "            qr = QuantumRegister(num_qubits)\n",
    "            cr = ClassicalRegister(num_qubits)\n",
    "            for (key, val) in final_embedding.items():\n",
    "                initial_layout[qr[key]] = val\n",
    "            qc = QuantumCircuit(qr, cr)\n",
    "\n",
    "            # prepare Bell state\n",
    "            qc.append(NoiselessH, [0])\n",
    "            qc.append(NoiselessCX, [0, 1])\n",
    "\n",
    "            # inject error\n",
    "            if error in [Op.X, Op.Y]:\n",
    "                qc.append(NoiselessX, [qubit])\n",
    "            if error in [Op.Z, Op.Y]:\n",
    "                qc.append(NoiselessX, [qubit])\n",
    "                \n",
    "            # run actual algorithm\n",
    "            if is_default:\n",
    "                default_code(qc, cbits=cr)\n",
    "            else:\n",
    "                my_code(qc, cbits=cr)\n",
    "\n",
    "            qc.save_statevector('res', pershot=True)\n",
    "            state_vs = ibm_simulate_circuit(qc, ibm_noise_model, initial_layout)\n",
    "            total+= len(state_vs)\n",
    "            for (index,state) in enumerate(state_vs):\n",
    "                if is_target_qs(state):\n",
    "                    accuracy += 1\n",
    "    return accuracy / total"
   ]
  },
  {
   "cell_type": "code",
   "execution_count": 31,
   "id": "5257ce46",
   "metadata": {},
   "outputs": [
    {
     "name": "stdout",
     "output_type": "stream",
     "text": [
      "accuracy of synthesized algorithms: \n"
     ]
    },
    {
     "data": {
      "text/plain": [
       "0.8558349609375"
      ]
     },
     "execution_count": 31,
     "metadata": {},
     "output_type": "execute_result"
    }
   ],
   "source": [
    "print(\"accuracy of synthesized algorithms: \")\n",
    "ibm_simulate_algorithms(is_default=False)"
   ]
  },
  {
   "cell_type": "code",
   "execution_count": 33,
   "id": "cbbaee1f",
   "metadata": {},
   "outputs": [
    {
     "name": "stdout",
     "output_type": "stream",
     "text": [
      "accuracy of traditional algorithms: \n"
     ]
    },
    {
     "data": {
      "text/plain": [
       "0.6474609375"
      ]
     },
     "execution_count": 33,
     "metadata": {},
     "output_type": "execute_result"
    }
   ],
   "source": [
    "print(\"accuracy of traditional algorithms: \")\n",
    "ibm_simulate_algorithms(is_default=True)"
   ]
  },
  {
   "cell_type": "code",
   "execution_count": null,
   "id": "ad99e083",
   "metadata": {},
   "outputs": [],
   "source": []
  }
 ],
 "metadata": {
  "kernelspec": {
   "display_name": "Python 3 (ipykernel)",
   "language": "python",
   "name": "python3"
  },
  "language_info": {
   "codemirror_mode": {
    "name": "ipython",
    "version": 3
   },
   "file_extension": ".py",
   "mimetype": "text/x-python",
   "name": "python",
   "nbconvert_exporter": "python",
   "pygments_lexer": "ipython3",
   "version": "3.10.13"
  }
 },
 "nbformat": 4,
 "nbformat_minor": 5
}
