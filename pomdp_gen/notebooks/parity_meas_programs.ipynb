{
 "cells": [
  {
   "cell_type": "code",
   "execution_count": 1,
   "id": "7246d665",
   "metadata": {},
   "outputs": [],
   "source": [
    "import os, sys\n",
    "sys.path.append(os.getcwd()+\"/../../..\")\n",
    "sys.path.append(os.getcwd()+\"/../..\")\n",
    "sys.path.append(os.getcwd()+\"/..\")\n",
    "from noise import *\n",
    "from qstates import *\n",
    "from utils import *\n",
    "from quantitative.graph import Graph\n",
    "from quantitative.game import *\n",
    "from simulator import *\n",
    "from math import isclose\n",
    "from settings import ibm_noise_model, backend\n",
    "from copy import deepcopy\n",
    "Precision.PRECISION = 3"
   ]
  },
  {
   "cell_type": "code",
   "execution_count": 2,
   "id": "3181f4d0",
   "metadata": {},
   "outputs": [],
   "source": [
    "initial_qs = QuantumState(0)\n",
    "initial_qs\n",
    "initial_cs = ClassicalState()\n",
    "def w(a):\n",
    "    return 1"
   ]
  },
  {
   "cell_type": "code",
   "execution_count": 3,
   "id": "8f434d8f",
   "metadata": {},
   "outputs": [],
   "source": [
    "def get_bell_state(i, with_noise=True, seed=None):\n",
    "    assert i >= 0 and i < 4\n",
    "    if not with_noise:\n",
    "        qpu = QSimulator(NoiseModel(), 1)\n",
    "    else:\n",
    "        assert seed is not None\n",
    "        qpu = QSimulator(noise_model, seed)\n",
    "    qpu.apply_instruction(Instruction.H, m(0))\n",
    "    qpu.apply_instruction(Instruction.CNOT, m(1), [m(0)])\n",
    "    if i == 0:\n",
    "        pass\n",
    "    elif i == 1:\n",
    "        qpu.apply_instruction(Instruction.X, m(0))\n",
    "    elif i == 2:\n",
    "        qpu.apply_instruction(Instruction.Z, m(0))\n",
    "    else:\n",
    "        assert i == 3\n",
    "        qpu.apply_instruction(Instruction.X, m(0))\n",
    "        qpu.apply_instruction(Instruction.Z, m(0))\n",
    "        \n",
    "    return qpu.qmemory"
   ]
  },
  {
   "cell_type": "code",
   "execution_count": 4,
   "id": "42b77d22",
   "metadata": {},
   "outputs": [],
   "source": [
    "def m (address):\n",
    "    if address is None:\n",
    "        return None\n",
    "    if backend == FAKE_TENERIFE:            \n",
    "        if address == 2:\n",
    "            return 0\n",
    "        if address == 0:\n",
    "            return 2\n",
    "        if address == 1:\n",
    "            return 1\n",
    "    if backend == FAKE_JAKARTA:\n",
    "        if address == 0:\n",
    "            return 5\n",
    "        if address == 1:\n",
    "            return 3\n",
    "        if address == 2:\n",
    "            return 1\n",
    "    if backend == FAKE_JOHANNESBURG:\n",
    "        if address == 0:\n",
    "            return 14\n",
    "        if address == 1:\n",
    "            return 9\n",
    "        if address == 2:\n",
    "            return 13\n",
    "        \n",
    "    if backend == FAKE_LAGOS:\n",
    "        if address == 0:\n",
    "            return 4\n",
    "        if address == 1:\n",
    "            return 5\n",
    "        if address == 2:\n",
    "            return 6\n",
    "    assert False\n",
    "    \n",
    "def inv_m (address):\n",
    "    if address is None:\n",
    "        return None\n",
    "    if backend == FAKE_TENERIFE:            \n",
    "        if address == 0:\n",
    "            return 2\n",
    "        if address == 2:\n",
    "            return 0\n",
    "        if address == 1:\n",
    "            return 1\n",
    "    if backend == FAKE_JAKARTA:\n",
    "        if address == 5:\n",
    "            return 0\n",
    "        if address == 3:\n",
    "            return 1\n",
    "        if address == 1:\n",
    "            return 2\n",
    "    if backend == FAKE_JOHANNESBURG:\n",
    "        if address == 14:\n",
    "            return 0\n",
    "        if address == 9:\n",
    "            return 1\n",
    "        if address == 13:\n",
    "            return 2\n",
    "        \n",
    "    if backend == FAKE_LAGOS:\n",
    "        if address == 4:\n",
    "            return 0\n",
    "        if address == 5:\n",
    "            return 1\n",
    "        if address == 6:\n",
    "            return 2\n",
    "    assert False"
   ]
  },
  {
   "cell_type": "code",
   "execution_count": 5,
   "id": "b8b65058",
   "metadata": {},
   "outputs": [],
   "source": [
    "def is_target_qs(qs, address_space):\n",
    "    prob00 = 0.0\n",
    "    prob11 = 0.0\n",
    "    for (basis, value) in qs.sparse_vector.items():\n",
    "        qubit0 = (basis >> address_space(0)) & 1\n",
    "        qubit1 = (basis >> address_space(1)) & 1\n",
    "        if qubit0 != qubit1:\n",
    "            probv = value * conjugate(value)\n",
    "            if isinstance(probv, complex):\n",
    "                probv = probv.real\n",
    "            if not isclose(probv, 0.0, abs_tol=Precision.isclose_abstol): \n",
    "                return False\n",
    "        else:\n",
    "            if qubit0 == 0:\n",
    "                prob00 += value * conjugate(value)\n",
    "            else:\n",
    "                prob11 += value * conjugate(value)\n",
    "\n",
    "    if isinstance(prob00, complex):\n",
    "        prob00 = prob00.real\n",
    "\n",
    "    if isinstance(prob11, complex):\n",
    "        prob11 = prob11.real\n",
    "    if isclose(prob00, 0.0, abs_tol=Precision.isclose_abstol):\n",
    "        return False\n",
    "    \n",
    "    return isclose(prob00, prob11) \n",
    "\n",
    "def is_not_answer(qs, address_space):\n",
    "    return is_flip_bell_state(qs, address_space) or is_flip_bell_state_minus(qs, address_space)"
   ]
  },
  {
   "cell_type": "code",
   "execution_count": 6,
   "id": "5cb0f89d",
   "metadata": {},
   "outputs": [],
   "source": [
    "def traditional_parity_check(noise_model, seed, qs):\n",
    "    qpu = QSimulator(noise_model, seed)\n",
    "    qpu.qmemory = qs\n",
    "    qpu.apply_instruction(Instruction.CNOT, m(2), [m(0)])\n",
    "    qpu.apply_instruction(Instruction.CNOT, m(2), [m(1)])\n",
    "    outcome = qpu.apply_instruction(Instruction.MEAS, m(2))\n",
    "    if outcome == 1:\n",
    "        qpu.apply_instruction(Instruction.X, m(0))\n",
    "    return qpu.qmemory, outcome, qpu.count_executed_instructions\n",
    "\n",
    "def get_traditional_algo_stats(shots, bell_index =-1, bell_with_noise=False):\n",
    "    total_correct = 0\n",
    "    i = 0\n",
    "    overall_correct = 0\n",
    "    c = 0 # avg. executed instructions\n",
    "    while shots > 0:\n",
    "        if bell_index == -1:\n",
    "            curr_state = get_bell_state(random.randint(0,3), with_noise=bell_with_noise, seed=i)\n",
    "        else:\n",
    "            curr_state = get_bell_state(bell_index)\n",
    "        qs, outcome, count_ins = traditional_parity_check(noise_model, i, curr_state)\n",
    "        c += count_ins\n",
    "        is_bell = is_target_qs(qs, m)\n",
    "        if is_bell:\n",
    "            overall_correct += 1\n",
    "        i+=1\n",
    "        shots-=1\n",
    "    assert shots == 0\n",
    "    return round(overall_correct/i, 3), round(c/i, 3)"
   ]
  },
  {
   "cell_type": "code",
   "execution_count": 7,
   "id": "02003f83",
   "metadata": {},
   "outputs": [],
   "source": [
    "def execute_my_algo(shots, new_algo, initial_belief, bell_with_noise=False, with_robust_read=False, with_readout_err=True):    \n",
    "    totalc = 0\n",
    "    correct_is_correct = 0\n",
    "    total_errors = 0\n",
    "    error_is_error= 0\n",
    "    i = 0\n",
    "    trials = 5\n",
    "    c = 0\n",
    "    while shots > 0:\n",
    "        state = get_bell_state(random.randint(0,3), with_noise=bell_with_noise, seed=i)\n",
    "        qpu = QSimulator(noise_model, seed=i, with_readout_err=with_readout_err)\n",
    "        qpu.qmemory = state\n",
    "        r = new_algo(noise_model, w, seed=i, qpu=qpu,init_belief=initial_belief)\n",
    "        outcome = r.error\n",
    "        is_bell = is_target_qs(qpu.qmemory, m)\n",
    "        c += qpu.count_executed_instructions\n",
    "\n",
    "        if outcome == 1:\n",
    "            trials-=1\n",
    "            total_errors += 1\n",
    "            if not is_bell:\n",
    "                error_is_error += 1\n",
    "        else:\n",
    "            assert outcome == 0\n",
    "            trials = 5\n",
    "            shots -= 1\n",
    "            totalc += 1\n",
    "            if is_bell:\n",
    "                correct_is_correct += 1\n",
    "        i+=1\n",
    "        if trials == 0:\n",
    "            break\n",
    "        \n",
    "    assert i == totalc + total_errors\n",
    "    assert shots == 0\n",
    "    print(\"total executions: \", totalc+total_errors)\n",
    "    if total_errors > 0:\n",
    "        print(\"error detection acc.:\", round(error_is_error/total_errors, 3))\n",
    "    if totalc > 0:\n",
    "        print(\"positives acc.:\", round(correct_is_correct/totalc, 3))\n",
    "    if total_errors + totalc > 0:\n",
    "        print(\"total acc.\", round((correct_is_correct+error_is_error)/(totalc + total_errors),3))\n",
    "    print(\"avg. executed instructions: \", round(c/i, 3))\n",
    "    \n"
   ]
  },
  {
   "cell_type": "code",
   "execution_count": 12,
   "id": "26e1e9c7",
   "metadata": {},
   "outputs": [],
   "source": [
    "def execute_enumerated_algos(algorithm, shots= 1000, with_readout_err=True, bell_with_noise=False, is_bellman=False):\n",
    "    totalc = 0\n",
    "    correct_is_correct = 0\n",
    "    total_errors = 0\n",
    "    error_is_error= 0\n",
    "    i = 0\n",
    "    trials = 5\n",
    "    c = 0\n",
    "    while shots > 0:\n",
    "        state = get_bell_state(random.randint(0,3), with_noise=bell_with_noise, seed=i)\n",
    "        qpu = QSimulator(noise_model, seed=i, with_readout_err=with_readout_err)\n",
    "        qpu.qmemory = state\n",
    "        if not is_bellman:\n",
    "            outcome, qpu = algorithm(qpu=qpu)\n",
    "        else:\n",
    "            result = algorithm(noise_model, seed=i, qpu=qpu, address_space=default_mapping)\n",
    "            qpu.qmemory = result.qmemory\n",
    "            if result.error:\n",
    "                outcome = 1\n",
    "            else:\n",
    "                outcome = 0\n",
    "        is_bell = is_target_qs(qpu.qmemory, m)\n",
    "        c += qpu.count_executed_instructions\n",
    "\n",
    "        if outcome == 1:\n",
    "            trials-=1\n",
    "            total_errors += 1\n",
    "            if not is_bell:\n",
    "                error_is_error += 1\n",
    "        else:\n",
    "            assert outcome == 0\n",
    "            trials = 5\n",
    "            shots -= 1\n",
    "            totalc += 1\n",
    "            if is_bell:\n",
    "                correct_is_correct += 1\n",
    "        i+=1\n",
    "        if trials == 0:\n",
    "            break\n",
    "        \n",
    "    assert i == totalc + total_errors\n",
    "    assert shots == 0\n",
    "    print(\"total executions: \", totalc+total_errors)\n",
    "    if total_errors > 0:\n",
    "        print(\"error detection acc.:\", round(error_is_error/total_errors, 3))\n",
    "    if totalc > 0:\n",
    "        print(\"positives acc.:\", round(correct_is_correct/totalc, 3))\n",
    "    if total_errors + totalc > 0:\n",
    "        print(\"total acc.\", round((correct_is_correct+error_is_error)/(totalc + total_errors),3))\n",
    "    print(\"avg. executed instructions: \", round(c/i, 3))"
   ]
  },
  {
   "cell_type": "code",
   "execution_count": 13,
   "id": "1a2a5a47",
   "metadata": {},
   "outputs": [
    {
     "name": "stdout",
     "output_type": "stream",
     "text": [
      "Adding image coupler for 2-1 qubits\n",
      "Adding image coupler for 2-3 qubits\n",
      "Adding image coupler for 2-0 qubits\n",
      "Adding image coupler for 0-1 qubits\n",
      "Adding image coupler for 4-2 qubits\n",
      "Adding image coupler for 1-4 qubits\n",
      "Adding image coupler for 4-1 qubits\n",
      "total executions:  1000\n",
      "positives acc.: 0.948\n",
      "total acc. 0.948\n",
      "avg. executed instructions:  4.887\n"
     ]
    }
   ],
   "source": [
    "from tenerife_algos import *\n",
    "backend = FAKE_TENERIFE\n",
    "noise_model = get_ibm_noise_model(backend)\n",
    "execute_enumerated_algos(simulate_algo, shots=1000, is_bellman=True)"
   ]
  },
  {
   "cell_type": "markdown",
   "id": "1a199da7",
   "metadata": {},
   "source": [
    "# Fake Tenerife"
   ]
  },
  {
   "cell_type": "code",
   "execution_count": 9,
   "id": "7317f3d8",
   "metadata": {},
   "outputs": [
    {
     "ename": "ModuleNotFoundError",
     "evalue": "No module named 'bell_tenerife'",
     "output_type": "error",
     "traceback": [
      "\u001b[0;31m---------------------------------------------------------------------------\u001b[0m",
      "\u001b[0;31mModuleNotFoundError\u001b[0m                       Traceback (most recent call last)",
      "Cell \u001b[0;32mIn[9], line 1\u001b[0m\n\u001b[0;32m----> 1\u001b[0m \u001b[38;5;28;01mfrom\u001b[39;00m \u001b[38;5;21;01mbell_tenerife\u001b[39;00m \u001b[38;5;28;01mimport\u001b[39;00m \u001b[38;5;241m*\u001b[39m\n",
      "\u001b[0;31mModuleNotFoundError\u001b[0m: No module named 'bell_tenerife'"
     ]
    }
   ],
   "source": [
    "from bell_tenerife import *"
   ]
  },
  {
   "cell_type": "code",
   "execution_count": 14,
   "id": "81c7718a",
   "metadata": {},
   "outputs": [
    {
     "name": "stdout",
     "output_type": "stream",
     "text": [
      "Adding image coupler for 2-1 qubits\n",
      "Adding image coupler for 2-3 qubits\n",
      "Adding image coupler for 2-0 qubits\n",
      "Adding image coupler for 0-1 qubits\n",
      "Adding image coupler for 4-2 qubits\n",
      "Adding image coupler for 1-4 qubits\n",
      "Adding image coupler for 4-1 qubits\n"
     ]
    }
   ],
   "source": [
    "backend = FAKE_TENERIFE\n",
    "noise_model = get_ibm_noise_model(backend)"
   ]
  },
  {
   "cell_type": "code",
   "execution_count": 11,
   "id": "587ec94d",
   "metadata": {},
   "outputs": [
    {
     "data": {
      "text/plain": [
       "(0.892, 3.501)"
      ]
     },
     "execution_count": 11,
     "metadata": {},
     "output_type": "execute_result"
    }
   ],
   "source": [
    "get_traditional_algo_stats(8000)"
   ]
  },
  {
   "cell_type": "code",
   "execution_count": 11,
   "id": "72ddf61a",
   "metadata": {},
   "outputs": [
    {
     "name": "stdout",
     "output_type": "stream",
     "text": [
      "total executions:  8266\n",
      "error detection acc.: 0.556\n",
      "positives acc.: 0.964\n",
      "total acc. 0.951\n",
      "avg. executed instructions:  5.706\n"
     ]
    }
   ],
   "source": [
    "Precision.PRECISION = 3\n",
    "execute_my_algo(8000, simulate_bell_tenerife, None, with_robust_read=False)"
   ]
  },
  {
   "cell_type": "code",
   "execution_count": 11,
   "id": "b3b5ec88",
   "metadata": {},
   "outputs": [],
   "source": [
    "from tenerife_algos import *\n",
    "# for i in range(len(tenerife_algorithms)):\n",
    "#     print(i)\n",
    "#     execute_enumerated_algos(tenerife_algorithms[i], shots=100)\n",
    "#     print(\"\")"
   ]
  },
  {
   "cell_type": "markdown",
   "id": "014d4898",
   "metadata": {},
   "source": [
    "# Fake Jakarta"
   ]
  },
  {
   "cell_type": "code",
   "execution_count": 9,
   "id": "730db179",
   "metadata": {},
   "outputs": [
    {
     "name": "stdout",
     "output_type": "stream",
     "text": [
      "Adding coupler for 5<->1 qubits\n"
     ]
    }
   ],
   "source": [
    "noise_model = get_ibm_noise_model(FAKE_JAKARTA)"
   ]
  },
  {
   "cell_type": "code",
   "execution_count": 10,
   "id": "3e99b82d",
   "metadata": {},
   "outputs": [
    {
     "data": {
      "text/plain": [
       "(0.961, 3.5)"
      ]
     },
     "execution_count": 10,
     "metadata": {},
     "output_type": "execute_result"
    }
   ],
   "source": [
    "get_traditional_algo_stats(8000)"
   ]
  },
  {
   "cell_type": "code",
   "execution_count": 10,
   "id": "601962f8",
   "metadata": {},
   "outputs": [],
   "source": [
    "from bell_jakarta import *"
   ]
  },
  {
   "cell_type": "code",
   "execution_count": 12,
   "id": "b6af528f",
   "metadata": {},
   "outputs": [
    {
     "name": "stdout",
     "output_type": "stream",
     "text": [
      "total executions:  8222\n",
      "error detection acc.: 0.986\n",
      "positives acc.: 0.978\n",
      "total acc. 0.978\n",
      "avg. executed instructions:  4.509\n"
     ]
    }
   ],
   "source": [
    "execute_my_algo(8000, simulate_bell_jakarta, None)"
   ]
  },
  {
   "cell_type": "code",
   "execution_count": 13,
   "id": "51f5ffea",
   "metadata": {},
   "outputs": [
    {
     "name": "stdout",
     "output_type": "stream",
     "text": [
      "0\n",
      "total executions:  8223\n",
      "error detection acc.: 0.996\n",
      "positives acc.: 0.979\n",
      "total acc. 0.979\n",
      "avg. executed instructions:  4.504\n",
      "\n"
     ]
    }
   ],
   "source": [
    "from jakarta_algos import *\n",
    "for i in range(len(jakarta_algorithms)):\n",
    "    print(i)\n",
    "    execute_enumerated_algos(jakarta_algorithms[i], shots=8000)\n",
    "    print(\"\")"
   ]
  },
  {
   "cell_type": "markdown",
   "id": "153e35b4",
   "metadata": {},
   "source": [
    "# Fake Johannesburg"
   ]
  },
  {
   "cell_type": "code",
   "execution_count": 16,
   "id": "b137e15f",
   "metadata": {},
   "outputs": [
    {
     "name": "stdout",
     "output_type": "stream",
     "text": [
      "Adding coupler for 13-9 qubits\n",
      "Adding coupler for 13-9 qubits\n"
     ]
    }
   ],
   "source": [
    "backend = FAKE_JOHANNESBURG\n",
    "noise_model = get_ibm_noise_model(backend)"
   ]
  },
  {
   "cell_type": "code",
   "execution_count": 10,
   "id": "f5aba882",
   "metadata": {},
   "outputs": [
    {
     "data": {
      "text/plain": [
       "(0.867, 3.5)"
      ]
     },
     "execution_count": 10,
     "metadata": {},
     "output_type": "execute_result"
    }
   ],
   "source": [
    "get_traditional_algo_stats(8000)"
   ]
  },
  {
   "cell_type": "code",
   "execution_count": 10,
   "id": "6f107ff5",
   "metadata": {},
   "outputs": [],
   "source": [
    "from bell_johann import *"
   ]
  },
  {
   "cell_type": "code",
   "execution_count": 11,
   "id": "1cdc2929",
   "metadata": {},
   "outputs": [
    {
     "name": "stdout",
     "output_type": "stream",
     "text": [
      "total executions:  8000\n",
      "positives acc.: 0.939\n",
      "total acc. 0.939\n",
      "avg. executed instructions:  4.474\n"
     ]
    }
   ],
   "source": [
    "execute_my_algo(8000, simulate_bell_johann, None)"
   ]
  },
  {
   "cell_type": "code",
   "execution_count": 12,
   "id": "9f99da1a",
   "metadata": {},
   "outputs": [
    {
     "name": "stdout",
     "output_type": "stream",
     "text": [
      "0\n",
      "total executions:  8000\n",
      "positives acc.: 0.936\n",
      "total acc. 0.936\n",
      "avg. executed instructions:  4.475\n",
      "\n",
      "1\n",
      "total executions:  8000\n",
      "positives acc.: 0.929\n",
      "total acc. 0.929\n",
      "avg. executed instructions:  4.479\n",
      "\n",
      "2\n",
      "total executions:  8000\n",
      "positives acc.: 0.935\n",
      "total acc. 0.935\n",
      "avg. executed instructions:  4.475\n",
      "\n"
     ]
    }
   ],
   "source": [
    "from johann_algos import *\n",
    "for i in range(len(johannesburg_algorithms)):\n",
    "    print(i)\n",
    "    execute_enumerated_algos(johannesburg_algorithms[i], shots=8000)\n",
    "    print(\"\")"
   ]
  },
  {
   "cell_type": "code",
   "execution_count": 13,
   "id": "04d9c5af",
   "metadata": {},
   "outputs": [
    {
     "name": "stderr",
     "output_type": "stream",
     "text": [
      "/var/folders/jb/g9mmpv8n62190fgx4t722rnr0000gn/T/ipykernel_9879/4227381476.py:20: DeprecationWarning: from_dict has been deprecated as of qiskit-aer 0.10.0 and will be removed no earlier than 3 months from that release date.\n",
      "  ibm_noise_model = IBMNoiseModel.from_dict(d)\n"
     ]
    }
   ],
   "source": [
    "from qiskit.providers.fake_provider import FakeJohannesburg\n",
    "import numpy as np\n",
    "from qiskit_aer import AerSimulator\n",
    "ibm_noise_model = IBMNoiseModel.from_backend(FakeJohannesburg())\n",
    "d = ibm_noise_model.to_dict()\n",
    "c14_9 = None\n",
    "c9_14 = None\n",
    "for e in d['errors']:\n",
    "    for q in e['gate_qubits']:\n",
    "        if (14, 9)  == q:\n",
    "            assert c14_9 is None\n",
    "            c14_9 = deepcopy(e)\n",
    "        elif (9, 14)in e['gate_qubits']:\n",
    "            assert c9_14 is None\n",
    "            c9_14 = deepcopy(e)\n",
    "c14_9['gate_qubits'] = [(13, 9)]\n",
    "c9_14['gate_qubits'] = [(9, 13)]\n",
    "d['errors'].append(c14_9)\n",
    "d['errors'].append(c9_14)\n",
    "ibm_noise_model = IBMNoiseModel.from_dict(d)\n",
    "\n",
    "from qiskit.extensions import HGate, XGate, ZGate, CXGate\n",
    "noisefree_h = HGate(label=\"H1\")\n",
    "noisefree_x = XGate(label=\"X1\")\n",
    "noisefree_z = ZGate(label=\"Z1\")\n",
    "noisefree_cx = CXGate(label=\"CX1\")\n",
    "\n",
    "ibm_noise_model.add_basis_gates(['H1', \"X1\", \"Z1\", \"CX1\"])"
   ]
  },
  {
   "cell_type": "code",
   "execution_count": 14,
   "id": "aad814ff",
   "metadata": {},
   "outputs": [],
   "source": [
    "def get_qiskit_bell_state(i):\n",
    "    assert i >= 0 and i < 4\n",
    "    qr = QuantumRegister(3)\n",
    "    cr = ClassicalRegister(3)\n",
    "    qc = QuantumCircuit(qr, cr)\n",
    "    \n",
    "    qc.append(noisefree_h, [0]) \n",
    "    qc.append(noisefree_cx, [0, 1]) \n",
    "    \n",
    "    if i == 0:\n",
    "        pass\n",
    "    elif i == 1:\n",
    "        qc.append(noisefree_x, [0]) \n",
    "    elif i == 2:\n",
    "        qc.append(noisefree_z, [0]) \n",
    "    else:\n",
    "        assert i == 3\n",
    "        qc.append(noisefree_x, [0]) \n",
    "        qc.append(noisefree_z, [0]) \n",
    "    return qc, qr, cr\n",
    "\n",
    "def get_johann_algo2(i):\n",
    "    qc, qr, cr = get_qiskit_bell_state(i)\n",
    "    qc.cx(qr[1], qr[2])\n",
    "    qc.h(qr[0])\n",
    "    qc.cx(qr[0], qr[1])\n",
    "    qc.measure(qr[2], cr[2])\n",
    "\n",
    "    with qc.if_test((cr[2], True)) as else_:\n",
    "        qc.x(qr[0])\n",
    "    with else_:\n",
    "        pass\n",
    "    qc.save_statevector('psi2', pershot=True)\n",
    "    return qc\n",
    "    \n",
    "def default_ibm_algo(i):\n",
    "    qc, qr, cr = get_qiskit_bell_state(i)\n",
    "    qc.cx(qr[1], qr[2])\n",
    "    qc.cx(qr[0], qr[2])\n",
    "    qc.measure(qr[2], cr[2])\n",
    "\n",
    "    with qc.if_test((cr[2], True)) as else_:\n",
    "        qc.x(qr[0])\n",
    "    with else_:\n",
    "        pass\n",
    "    qc.save_statevector('psi2', pershot=True)\n",
    "    return qc"
   ]
  },
  {
   "cell_type": "code",
   "execution_count": 15,
   "id": "1c1f869c",
   "metadata": {},
   "outputs": [],
   "source": [
    "def ibm_is_target_qs(statev) -> bool:\n",
    "    prob00 = 0.0\n",
    "    prob11 = 0.0\n",
    "    for basis in range(8):\n",
    "        value = statev[basis]\n",
    "        b_str = int_to_bin(basis)\n",
    "        while len(b_str) < 3:\n",
    "            b_str += \"0\"\n",
    "        qubit0 = (b_str[0] == '1')\n",
    "        qubit1 = (b_str[2] == '1')\n",
    "        if qubit0 != qubit1:\n",
    "            probv = value * conjugate(value)\n",
    "            if isinstance(probv, complex):\n",
    "                probv = probv.real\n",
    "            if not isclose(probv, 0.0, abs_tol=Precision.isclose_abstol): \n",
    "                return False\n",
    "        else:\n",
    "            if qubit0 == 0:\n",
    "                prob00 += value*conjugate(value)\n",
    "            else:\n",
    "                prob11 += value*conjugate(value)\n",
    "\n",
    "    if isinstance(prob00, complex):\n",
    "        prob00 = simplify(prob00.real)\n",
    "        \n",
    "    if isinstance(prob11, complex):\n",
    "        prob11 = simplify(prob11.real)\n",
    "        \n",
    "    if isclose(prob00, 0.0, abs_tol=Precision.isclose_abstol):\n",
    "        return False\n",
    "    \n",
    "    return isclose(prob00, prob11)\n",
    "\n"
   ]
  },
  {
   "cell_type": "code",
   "execution_count": 18,
   "id": "fe172486",
   "metadata": {},
   "outputs": [
    {
     "name": "stdout",
     "output_type": "stream",
     "text": [
      "0.913\n"
     ]
    }
   ],
   "source": [
    "sim_noise = AerSimulator(method ='statevector', noise_model=ibm_noise_model)\n",
    "\n",
    "shots = 2000\n",
    "\n",
    "acc = 0\n",
    "\n",
    "for b in range(4):\n",
    "    qc = get_johann_algo2(b)\n",
    "    circ_tnoise = transpile(qc, sim_noise, optimization_level=1, initial_layout=[14, 9, 13])\n",
    "    # Run and get counts\n",
    "    result = sim_noise.run(circ_tnoise, shots=shots).result()\n",
    "    statevs = np.asarray(result.data()['psi2'])\n",
    "    for shot in range(shots):\n",
    "        statev = np.asarray(statevs[shot])\n",
    "        if ibm_is_target_qs(statev):\n",
    "            acc += 1\n",
    "                \n",
    "            \n",
    "    \n",
    "print(round(acc/(4*shots), 3))"
   ]
  },
  {
   "cell_type": "code",
   "execution_count": 104,
   "id": "2223e307",
   "metadata": {},
   "outputs": [
    {
     "data": {
      "text/plain": [
       "0.018"
      ]
     },
     "execution_count": 104,
     "metadata": {},
     "output_type": "execute_result"
    }
   ],
   "source": [
    "round(0.936-0.918,3)"
   ]
  },
  {
   "cell_type": "code",
   "execution_count": 102,
   "id": "7dffced0",
   "metadata": {},
   "outputs": [
    {
     "name": "stdout",
     "output_type": "stream",
     "text": [
      "0.879\n"
     ]
    }
   ],
   "source": [
    "sim_noise = AerSimulator(method ='statevector', noise_model=ibm_noise_model)\n",
    "\n",
    "shots = 2000\n",
    "\n",
    "acc = 0\n",
    "\n",
    "for b in range(4):\n",
    "    qc = default_ibm_algo(b)\n",
    "    circ_tnoise = transpile(qc, sim_noise, optimization_level=1, initial_layout=[14, 9, 13])\n",
    "    # Run and get counts\n",
    "    result = sim_noise.run(circ_tnoise, shots=shots).result()\n",
    "    statevs = np.asarray(result.data()['psi2'])\n",
    "    for shot in range(shots):\n",
    "\n",
    "        statev = np.asarray(statevs[shot])\n",
    "        \n",
    "        if ibm_is_target_qs(statev):\n",
    "            acc += 1\n",
    "print(round(acc/(4*shots), 3))"
   ]
  },
  {
   "cell_type": "code",
   "execution_count": 105,
   "id": "9623c855",
   "metadata": {},
   "outputs": [
    {
     "data": {
      "text/plain": [
       "-0.012"
      ]
     },
     "execution_count": 105,
     "metadata": {},
     "output_type": "execute_result"
    }
   ],
   "source": [
    "round(0.867 - 0.879,3)"
   ]
  },
  {
   "cell_type": "markdown",
   "id": "6c374101",
   "metadata": {},
   "source": [
    "# Fake Lagos"
   ]
  },
  {
   "cell_type": "code",
   "execution_count": 9,
   "id": "e0acca80",
   "metadata": {},
   "outputs": [
    {
     "name": "stdout",
     "output_type": "stream",
     "text": [
      "Adding coupler for 4<->6 qubits\n"
     ]
    }
   ],
   "source": [
    "backend = FAKE_LAGOS\n",
    "noise_model = get_ibm_noise_model(backend)"
   ]
  },
  {
   "cell_type": "code",
   "execution_count": 26,
   "id": "b6bd16aa",
   "metadata": {},
   "outputs": [
    {
     "data": {
      "text/plain": [
       "(0.981, 3.489)"
      ]
     },
     "execution_count": 26,
     "metadata": {},
     "output_type": "execute_result"
    }
   ],
   "source": [
    "get_traditional_algo_stats(8000)"
   ]
  },
  {
   "cell_type": "code",
   "execution_count": 10,
   "id": "1700898a",
   "metadata": {},
   "outputs": [],
   "source": [
    "from bell_lagos import *"
   ]
  },
  {
   "cell_type": "code",
   "execution_count": 11,
   "id": "03466f00",
   "metadata": {},
   "outputs": [],
   "source": [
    "Precision.PRECISION = 4"
   ]
  },
  {
   "cell_type": "code",
   "execution_count": 12,
   "id": "ae4d7de5",
   "metadata": {},
   "outputs": [
    {
     "name": "stdout",
     "output_type": "stream",
     "text": [
      "total executions:  8127\n",
      "error detection acc.: 0.528\n",
      "positives acc.: 0.988\n",
      "total acc. 0.98\n",
      "avg. executed instructions:  4.494\n"
     ]
    }
   ],
   "source": [
    "execute_my_algo(8000, simulate_bell_lagos, None)"
   ]
  },
  {
   "cell_type": "code",
   "execution_count": 13,
   "id": "c0c41076",
   "metadata": {},
   "outputs": [
    {
     "name": "stdout",
     "output_type": "stream",
     "text": [
      "0\n",
      "total executions:  8108\n",
      "error detection acc.: 0.565\n",
      "positives acc.: 0.985\n",
      "total acc. 0.98\n",
      "avg. executed instructions:  4.485\n",
      "\n",
      "1\n",
      "total executions:  8118\n",
      "error detection acc.: 0.5\n",
      "positives acc.: 0.986\n",
      "total acc. 0.978\n",
      "avg. executed instructions:  4.492\n",
      "\n"
     ]
    }
   ],
   "source": [
    "from lagos_algos import *\n",
    "for i in range(len(lagos_algorithms)):\n",
    "    print(i)\n",
    "    execute_enumerated_algos(lagos_algorithms[i], shots=8000)\n",
    "    print(\"\")"
   ]
  },
  {
   "cell_type": "markdown",
   "id": "dc20f5ad",
   "metadata": {},
   "source": [
    "# Brute Force Algorithms"
   ]
  },
  {
   "cell_type": "code",
   "execution_count": 7,
   "id": "4e5a9cb4",
   "metadata": {},
   "outputs": [],
   "source": [
    "backend = FAKE_JOHANNESBURG\n",
    "noise_model = get_ibm_noise_model(backend)"
   ]
  },
  {
   "cell_type": "code",
   "execution_count": 9,
   "id": "78ec46f6",
   "metadata": {},
   "outputs": [],
   "source": [
    "channels = [\n",
    "    ([Instruction.CNOT], [2], [0], None),\n",
    "    ([Instruction.CNOT], [2], [1], None),\n",
    "    ([Instruction.CNOT], [1], [0], None),\n",
    "    ([Instruction.MEAS], [2], [None], None),\n",
    "    ([Instruction.X], [0], [None], None),\n",
    "    ([Instruction.H], [0], [None], None),\n",
    "]"
   ]
  },
  {
   "cell_type": "code",
   "execution_count": null,
   "id": "31e3d8ba",
   "metadata": {},
   "outputs": [],
   "source": [
    "\n"
   ]
  }
 ],
 "metadata": {
  "kernelspec": {
   "display_name": "Python 3 (ipykernel)",
   "language": "python",
   "name": "python3"
  },
  "language_info": {
   "codemirror_mode": {
    "name": "ipython",
    "version": 3
   },
   "file_extension": ".py",
   "mimetype": "text/x-python",
   "name": "python",
   "nbconvert_exporter": "python",
   "pygments_lexer": "ipython3",
   "version": "3.10.13"
  }
 },
 "nbformat": 4,
 "nbformat_minor": 5
}
